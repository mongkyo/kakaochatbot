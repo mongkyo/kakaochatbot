{
 "cells": [
  {
   "cell_type": "markdown",
   "metadata": {},
   "source": [
    "## 3과 5의 배수"
   ]
  },
  {
   "cell_type": "code",
   "execution_count": 143,
   "metadata": {},
   "outputs": [
    {
     "name": "stdout",
     "output_type": "stream",
     "text": [
      "1에서 1000사이의 수를 입력하세요: 500\n",
      "57918\n"
     ]
    }
   ],
   "source": [
    "x = int(input(\"1에서 1000사이의 수를 입력하세요: \"))\n",
    "sum = 0\n",
    "\n",
    "for i in range(x):\n",
    "    if x <= 1000:\n",
    "        if i % 3 == 0 or i % 5 ==0:\n",
    "            sum += i\n",
    "    \n",
    "    else:\n",
    "        print(\"1에서 1000이하의 수만 입력하세요\")\n",
    "        break\n",
    "print(sum)"
   ]
  },
  {
   "cell_type": "markdown",
   "metadata": {},
   "source": [
    "## 거스름돈"
   ]
  },
  {
   "cell_type": "code",
   "execution_count": 98,
   "metadata": {},
   "outputs": [
    {
     "name": "stdout",
     "output_type": "stream",
     "text": [
      "1000 이하의 수를 입력하세요(일의 자리는 0이여야 합니다.): 780\n",
      "1 2 1 3\n"
     ]
    }
   ],
   "source": [
    "def calculator(money):\n",
    "    \n",
    "    five_hundred = 0\n",
    "    one_hundred = 0\n",
    "    fifty = 0\n",
    "    ten = 0\n",
    "    \n",
    "    five_hundred = (money) // 500\n",
    "    one_hundred = (money - (five_hundred * 500)) // 100\n",
    "    fifty = (money - (five_hundred * 500) - (one_hundred * 100)) // 50\n",
    "    ten = (money - (five_hundred * 500) - (one_hundred * 100) - (fifty * 50)) // 10\n",
    "    \n",
    "    print(five_hundred, one_hundred, fifty, ten)\n",
    "    \n",
    "money = int(input(\"1000 이하의 수를 입력하세요(일의 자리는 0이여야 합니다.): \"))\n",
    "calculator(money)"
   ]
  },
  {
   "cell_type": "markdown",
   "metadata": {},
   "source": [
    "## 16진수"
   ]
  },
  {
   "cell_type": "code",
   "execution_count": 108,
   "metadata": {},
   "outputs": [
    {
     "name": "stdout",
     "output_type": "stream",
     "text": [
      "정수를 입력하세요: 100\n",
      "0x64\n"
     ]
    }
   ],
   "source": [
    "num = int(input('정수를 입력하세요: '))\n",
    "hex_num = hex(num)\n",
    "print(hex_num)"
   ]
  },
  {
   "cell_type": "markdown",
   "metadata": {},
   "source": [
    "## 공백 없애기"
   ]
  },
  {
   "cell_type": "code",
   "execution_count": 105,
   "metadata": {},
   "outputs": [
    {
     "name": "stdout",
     "output_type": "stream",
     "text": [
      "50자 이내의 문장을 입력하세요: I am Groom!\n",
      "IamGroom!\n"
     ]
    }
   ],
   "source": [
    "string = input('50자 이내의 문장을 입력하세요: ')\n",
    "replace_string = string.replace(' ','')\n",
    "print(replace_string)"
   ]
  },
  {
   "cell_type": "markdown",
   "metadata": {},
   "source": [
    "## 공백없애기(양의 정수를 입력받고 그 약수를 모두 출력)"
   ]
  },
  {
   "cell_type": "code",
   "execution_count": 144,
   "metadata": {},
   "outputs": [
    {
     "name": "stdout",
     "output_type": "stream",
     "text": [
      "양의 정수를 입력하세요: 100\n",
      "1 2 4 5 10 20 25 50 100\n"
     ]
    }
   ],
   "source": [
    "num = int(input('양의 정수를 입력하세요: '))\n",
    "result = []\n",
    "for i in range(1, num+1):\n",
    "    if num % i == 0:\n",
    "        result.append(str(i))\n",
    "    else:\n",
    "        pass\n",
    "\n",
    "print(' '.join(result))"
   ]
  },
  {
   "cell_type": "markdown",
   "metadata": {},
   "source": [
    "## SubString"
   ]
  },
  {
   "cell_type": "code",
   "execution_count": 152,
   "metadata": {},
   "outputs": [
    {
     "name": "stdout",
     "output_type": "stream",
     "text": [
      "문자를 입력하세요: Groom EDU\n",
      "시작할 문자의 인덱스를 입력하세요: 3\n",
      "시작할 문자부터 끝 문자까지의 인덱스를 입력하세요 5\n",
      "oom E\n"
     ]
    }
   ],
   "source": [
    "def substring(string, num1, num2):\n",
    "    print(string[num1-1:num1+num2-1])\n",
    "    \n",
    "string = input('문자를 입력하세요: ')\n",
    "num1 = int(input('시작할 문자의 인덱스를 입력하세요: '))\n",
    "num2 = int(input('시작할 문자부터 끝 문자까지의 인덱스를 입력하세요 '))\n",
    "\n",
    "substring(string, num1, num2)"
   ]
  },
  {
   "cell_type": "code",
   "execution_count": null,
   "metadata": {},
   "outputs": [],
   "source": []
  }
 ],
 "metadata": {
  "kernelspec": {
   "display_name": "Python 3",
   "language": "python",
   "name": "python3"
  },
  "language_info": {
   "codemirror_mode": {
    "name": "ipython",
    "version": 3
   },
   "file_extension": ".py",
   "mimetype": "text/x-python",
   "name": "python",
   "nbconvert_exporter": "python",
   "pygments_lexer": "ipython3",
   "version": "3.6.6"
  }
 },
 "nbformat": 4,
 "nbformat_minor": 2
}
