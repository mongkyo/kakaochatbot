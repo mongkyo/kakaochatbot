{
 "cells": [
  {
   "cell_type": "code",
   "execution_count": 1,
   "metadata": {},
   "outputs": [],
   "source": [
    "from selenium import webdriver\n",
    "from selenium.webdriver.common.keys import Keys\n",
    "from bs4 import BeautifulSoup\n",
    "import requests\n",
    "import lxml\n",
    "import sys\n",
    "import time\n",
    "import re\n",
    "import urllib.request\n"
   ]
  },
  {
   "cell_type": "code",
   "execution_count": 2,
   "metadata": {},
   "outputs": [],
   "source": [
    "chromedriver_dir = '/Users/mongkyo/Projects/kakao-chatbot/crawling/chromedriver'\n",
    "# options = webdriver.ChromeOptions()\n",
    "# options.add_argument('headless')\n",
    "# options.add_argument('window-size=1920x1080')\n",
    "# options.add_argument(\"disable-gpu\")\n",
    "# driver = webdriver.Chrome(chormedriver_dir, chrome_option=options)"
   ]
  },
  {
   "cell_type": "markdown",
   "metadata": {},
   "source": [
    "## 크롤링 완성"
   ]
  },
  {
   "cell_type": "code",
   "execution_count": 31,
   "metadata": {},
   "outputs": [
    {
     "name": "stdout",
     "output_type": "stream",
     "text": [
      "도서 정보: {'title': '전산회계', 'author': '임재희', 'publisher': '大經', 'publish_year': '2004', '1': {'no': '1', 'location': '중앙도서관/동양서 제1자료실(5층)/', 'serial_num': '325.9 임73ㅈ', 'status': '대출가능', 'returnDate': ''}, '2': {'no': '2', 'location': '중앙도서관/동양서 제1자료실(5층)/', 'serial_num': '325.9 임73ㅈ C.2', 'status': '대출가능', 'returnDate': ''}}\n",
      " 책 권수: 2\n",
      "도서 정보: {'title': '전산회계 1.2급 필기', 'author': '공경태', 'publisher': '세학사', 'publish_year': '2005', '1': {'no': '1', 'location': '중앙도서관/동양서 제1자료실(5층)/', 'serial_num': '325.9 임73ㅈ', 'status': '대출가능', 'returnDate': ''}, '2': {'no': '2', 'location': '중앙도서관/동양서 제1자료실(5층)/', 'serial_num': '325.9 임73ㅈ C.2', 'status': '대출가능', 'returnDate': ''}}\n",
      " 책 권수: 2\n",
      "도서 정보: {'title': '전산회계', 'author': '김종민', 'publisher': '삼보', 'publish_year': '2007', '1': {'no': '1', 'location': '중앙도서관/동양서 제1자료실(5층)/', 'serial_num': '325.9 임73ㅈ', 'status': '대출가능', 'returnDate': ''}, '2': {'no': '2', 'location': '중앙도서관/동양서 제1자료실(5층)/', 'serial_num': '325.9 임73ㅈ C.2', 'status': '대출가능', 'returnDate': ''}}\n",
      " 책 권수: 2\n",
      "도서 정보: {'title': '(전산회계사를 대비한)전산회계 = Accounting information', 'author': '이순우', 'publisher': '상조사', 'publish_year': '2000', '1': {'no': '1', 'location': '중앙도서관/동양서 제1자료실(5층)/', 'serial_num': '325.9 임73ㅈ', 'status': '대출가능', 'returnDate': ''}, '2': {'no': '2', 'location': '중앙도서관/동양서 제1자료실(5층)/', 'serial_num': '325.9 임73ㅈ C.2', 'status': '대출가능', 'returnDate': ''}}\n",
      " 책 권수: 2\n",
      "도서 정보: {'title': '전산회계', 'author': '박영수', 'publisher': '탑21', 'publish_year': '2000', '1': {'no': '1', 'location': '중앙도서관/동양서 제1자료실(5층)/', 'serial_num': '325.9 임73ㅈ', 'status': '대출가능', 'returnDate': ''}, '2': {'no': '2', 'location': '중앙도서관/동양서 제1자료실(5층)/', 'serial_num': '325.9 임73ㅈ C.2', 'status': '대출가능', 'returnDate': ''}}\n",
      " 책 권수: 2\n",
      "도서 정보: {'title': '전산회계', 'author': '신현대', 'publisher': '學現社', 'publish_year': '2003', '1': {'no': '1', 'location': '중앙도서관/동양서 제1자료실(5층)/', 'serial_num': '325.9 임73ㅈ', 'status': '대출가능', 'returnDate': ''}, '2': {'no': '2', 'location': '중앙도서관/동양서 제1자료실(5층)/', 'serial_num': '325.9 임73ㅈ C.2', 'status': '대출가능', 'returnDate': ''}}\n",
      " 책 권수: 2\n",
      "도서 정보: {'title': '전산회계', 'author': '공해영', 'publisher': '탑21Books', 'publish_year': '2005', '1': {'no': '1', 'location': '중앙도서관/동양서 제1자료실(5층)/', 'serial_num': '325.9 임73ㅈ', 'status': '대출가능', 'returnDate': ''}, '2': {'no': '2', 'location': '중앙도서관/동양서 제1자료실(5층)/', 'serial_num': '325.9 임73ㅈ C.2', 'status': '대출가능', 'returnDate': ''}}\n",
      " 책 권수: 2\n",
      "도서 정보: {'title': '전산회계', 'author': '남기하', 'publisher': '도우미출판사', 'publish_year': '2006', '1': {'no': '1', 'location': '중앙도서관/동양서 제1자료실(5층)/', 'serial_num': '325.9 임73ㅈ', 'status': '대출가능', 'returnDate': ''}, '2': {'no': '2', 'location': '중앙도서관/동양서 제1자료실(5층)/', 'serial_num': '325.9 임73ㅈ C.2', 'status': '대출가능', 'returnDate': ''}}\n",
      " 책 권수: 2\n",
      "도서 정보: {'title': '전산회계', 'author': '송영호', 'publisher': '형설출판사', 'publish_year': '2007', '1': {'no': '1', 'location': '중앙도서관/동양서 제1자료실(5층)/', 'serial_num': '325.9 임73ㅈ', 'status': '대출가능', 'returnDate': ''}, '2': {'no': '2', 'location': '중앙도서관/동양서 제1자료실(5층)/', 'serial_num': '325.9 임73ㅈ C.2', 'status': '대출가능', 'returnDate': ''}}\n",
      " 책 권수: 2\n",
      "도서 정보: {'title': '전산회계 2급', 'author': '김진호', 'publisher': '다음', 'publish_year': '2004', '1': {'no': '1', 'location': '중앙도서관/동양서 제1자료실(5층)/', 'serial_num': '325.9 임73ㅈ', 'status': '대출가능', 'returnDate': ''}, '2': {'no': '2', 'location': '중앙도서관/동양서 제1자료실(5층)/', 'serial_num': '325.9 임73ㅈ C.2', 'status': '대출가능', 'returnDate': ''}}\n",
      " 책 권수: 2\n"
     ]
    }
   ],
   "source": [
    "driver = webdriver.Chrome(chromedriver_dir)\n",
    "driver.get('https://nsulib.nsu.ac.kr/')\n",
    "elem = driver.find_element_by_id('type1q')  # 학교 홈페이지 검색창\n",
    "elem.send_keys('전산회계')  # 이 부분에 검색하고 싶은 도서 이름을 넣어주면 된다\n",
    "elem.send_keys(Keys.RETURN)\n",
    "a_tag = driver.find_elements_by_xpath('//a[contains(@href,\"#previewLocation\")]')\n",
    "for a in a_tag[:3+1]:\n",
    "    a.click()\n",
    "time.sleep(1)  # 클릭하고 html코드를 가져오는 과정이 너무 빨라서 클릭한 내용을 적용시키지 못하고 바로 긁어오기 때문에 html코드를 불러올 1초정도의 시간을 주는 것\n",
    "html = driver.page_source\n",
    "soup = BeautifulSoup(html, 'html.parser')\n",
    "ul = soup.select_one('.resultList')\n",
    "book_info = []\n",
    "for li in ul.select('.items'):\n",
    "    book_one = dict()\n",
    "    count = 0\n",
    "    book_one['title'] = li.select_one('dd.title > a').get_text()\n",
    "    book_one['author'] = li.select('dd.info')[0].get_text()\n",
    "    book_one['publisher'] = li.select('dd.info')[1].get_text()\n",
    "    book_one['publish_year'] = li.select('dd.info')[2].get_text()\n",
    "    book_info.append(book_one)\n",
    "    tbody = soup.find('tbody')\n",
    "    for tr in tbody.find_all('tr'):\n",
    "        book_tmp = dict()\n",
    "        count += 1\n",
    "        no = tr.select_one('.footable-first-column').get_text()\n",
    "        book_tmp['no'] = tr.select_one('.footable-first-column').get_text()\n",
    "        book_tmp['location'] = tr.select_one('.location').get_text()\n",
    "        book_tmp['serial_num'] = tr.select_one('.callNum').get_text()\n",
    "        book_tmp['status'] = tr.select_one('.status').get_text()\n",
    "        book_tmp['returnDate'] = tr.select_one('.returnDate').get_text()\n",
    "        book_one[f'{no}'] = book_tmp\n",
    "    print(f'도서 정보: {book_one}\\n 책 권수: {count}')"
   ]
  },
  {
   "cell_type": "code",
   "execution_count": 26,
   "metadata": {},
   "outputs": [
    {
     "data": {
      "text/plain": [
       "{'title': '컴퓨터구조',\n",
       " 'author': '김동일',\n",
       " 'publisher': '오성미디어',\n",
       " 'publish_year': '2002',\n",
       " '1': {'no': '1',\n",
       "  'location': '중앙도서관/동양서 제1자료실(5층)/',\n",
       "  'serial_num': '028.61 김75ㅋ',\n",
       "  'status': '대출가능',\n",
       "  'returnDate': ''},\n",
       " '2': {'no': '2',\n",
       "  'location': '중앙도서관/동양서 제1자료실(5층)/',\n",
       "  'serial_num': '028.61 김75ㅋ C.2',\n",
       "  'status': '대출가능',\n",
       "  'returnDate': ''},\n",
       " '3': {'no': '3',\n",
       "  'location': '중앙도서관/동양서 제1자료실(5층)/',\n",
       "  'serial_num': '028.61 김75ㅋ C.3',\n",
       "  'status': '대출가능',\n",
       "  'returnDate': ''}}"
      ]
     },
     "execution_count": 26,
     "metadata": {},
     "output_type": "execute_result"
    }
   ],
   "source": [
    "book_one"
   ]
  },
  {
   "cell_type": "markdown",
   "metadata": {},
   "source": [
    "## 아래는 크롤링 과정중에 사용했던 코드들 (지우기 아까워서 냅둠)"
   ]
  },
  {
   "cell_type": "markdown",
   "metadata": {},
   "source": [
    "### 정적으로 크롤링을 시도"
   ]
  },
  {
   "cell_type": "code",
   "execution_count": 20,
   "metadata": {},
   "outputs": [
    {
     "ename": "TypeError",
     "evalue": "object of type 'WebElement' has no len()",
     "output_type": "error",
     "traceback": [
      "\u001b[0;31m---------------------------------------------------------------------------\u001b[0m",
      "\u001b[0;31mTypeError\u001b[0m                                 Traceback (most recent call last)",
      "\u001b[0;32m<ipython-input-20-d0fcbaf71a40>\u001b[0m in \u001b[0;36m<module>\u001b[0;34m\u001b[0m\n\u001b[1;32m      2\u001b[0m \u001b[0mdriver\u001b[0m\u001b[0;34m.\u001b[0m\u001b[0mget\u001b[0m\u001b[0;34m(\u001b[0m\u001b[0;34m'https://nsulib.nsu.ac.kr/'\u001b[0m\u001b[0;34m)\u001b[0m\u001b[0;34m\u001b[0m\u001b[0m\n\u001b[1;32m      3\u001b[0m \u001b[0melem\u001b[0m \u001b[0;34m=\u001b[0m \u001b[0mdriver\u001b[0m\u001b[0;34m.\u001b[0m\u001b[0mfind_element_by_name\u001b[0m\u001b[0;34m(\u001b[0m\u001b[0;34m\"q\"\u001b[0m\u001b[0;34m)\u001b[0m\u001b[0;34m\u001b[0m\u001b[0m\n\u001b[0;32m----> 4\u001b[0;31m \u001b[0melem\u001b[0m\u001b[0;34m.\u001b[0m\u001b[0msend_keys\u001b[0m\u001b[0;34m(\u001b[0m\u001b[0ma\u001b[0m\u001b[0;34m)\u001b[0m\u001b[0;34m\u001b[0m\u001b[0m\n\u001b[0m\u001b[1;32m      5\u001b[0m \u001b[0melem\u001b[0m\u001b[0;34m.\u001b[0m\u001b[0msend_keys\u001b[0m\u001b[0;34m(\u001b[0m\u001b[0mKeys\u001b[0m\u001b[0;34m.\u001b[0m\u001b[0mRETURN\u001b[0m\u001b[0;34m)\u001b[0m\u001b[0;34m\u001b[0m\u001b[0m\n\u001b[1;32m      6\u001b[0m \u001b[0mdriver\u001b[0m\u001b[0;34m.\u001b[0m\u001b[0mfind_element_by_xpath\u001b[0m\u001b[0;34m(\u001b[0m\u001b[0;34m'//*[@id=\"item_CATTOT000000469834\"]/dl/dd[11]/div/p/a'\u001b[0m\u001b[0;34m)\u001b[0m\u001b[0;34m.\u001b[0m\u001b[0mclick\u001b[0m\u001b[0;34m(\u001b[0m\u001b[0;34m)\u001b[0m\u001b[0;34m\u001b[0m\u001b[0m\n",
      "\u001b[0;32m/usr/local/var/pyenv/versions/3.6.6/envs/kakao/lib/python3.6/site-packages/selenium/webdriver/remote/webelement.py\u001b[0m in \u001b[0;36msend_keys\u001b[0;34m(self, *value)\u001b[0m\n\u001b[1;32m    476\u001b[0m \u001b[0;34m\u001b[0m\u001b[0m\n\u001b[1;32m    477\u001b[0m         self._execute(Command.SEND_KEYS_TO_ELEMENT,\n\u001b[0;32m--> 478\u001b[0;31m                       {'text': \"\".join(keys_to_typing(value)),\n\u001b[0m\u001b[1;32m    479\u001b[0m                        'value': keys_to_typing(value)})\n\u001b[1;32m    480\u001b[0m \u001b[0;34m\u001b[0m\u001b[0m\n",
      "\u001b[0;32m/usr/local/var/pyenv/versions/3.6.6/envs/kakao/lib/python3.6/site-packages/selenium/webdriver/common/utils.py\u001b[0m in \u001b[0;36mkeys_to_typing\u001b[0;34m(value)\u001b[0m\n\u001b[1;32m    148\u001b[0m                 \u001b[0mtyping\u001b[0m\u001b[0;34m.\u001b[0m\u001b[0mappend\u001b[0m\u001b[0;34m(\u001b[0m\u001b[0mval\u001b[0m\u001b[0;34m[\u001b[0m\u001b[0mi\u001b[0m\u001b[0;34m]\u001b[0m\u001b[0;34m)\u001b[0m\u001b[0;34m\u001b[0m\u001b[0m\n\u001b[1;32m    149\u001b[0m         \u001b[0;32melse\u001b[0m\u001b[0;34m:\u001b[0m\u001b[0;34m\u001b[0m\u001b[0m\n\u001b[0;32m--> 150\u001b[0;31m             \u001b[0;32mfor\u001b[0m \u001b[0mi\u001b[0m \u001b[0;32min\u001b[0m \u001b[0mrange\u001b[0m\u001b[0;34m(\u001b[0m\u001b[0mlen\u001b[0m\u001b[0;34m(\u001b[0m\u001b[0mval\u001b[0m\u001b[0;34m)\u001b[0m\u001b[0;34m)\u001b[0m\u001b[0;34m:\u001b[0m\u001b[0;34m\u001b[0m\u001b[0m\n\u001b[0m\u001b[1;32m    151\u001b[0m                 \u001b[0mtyping\u001b[0m\u001b[0;34m.\u001b[0m\u001b[0mappend\u001b[0m\u001b[0;34m(\u001b[0m\u001b[0mval\u001b[0m\u001b[0;34m[\u001b[0m\u001b[0mi\u001b[0m\u001b[0;34m]\u001b[0m\u001b[0;34m)\u001b[0m\u001b[0;34m\u001b[0m\u001b[0m\n\u001b[1;32m    152\u001b[0m     \u001b[0;32mreturn\u001b[0m \u001b[0mtyping\u001b[0m\u001b[0;34m\u001b[0m\u001b[0m\n",
      "\u001b[0;31mTypeError\u001b[0m: object of type 'WebElement' has no len()"
     ]
    }
   ],
   "source": [
    "driver = webdriver.Chrome(chromedriver_dir)\n",
    "driver.get('https://nsulib.nsu.ac.kr/')\n",
    "elem = driver.find_element_by_name(\"q\")\n",
    "elem.send_keys(a)\n",
    "elem.send_keys(Keys.RETURN)\n",
    "driver.find_element_by_xpath('//*[@id=\"item_CATTOT000000469834\"]/dl/dd[11]/div/p/a').click()\n",
    "driver.find_element_by_xpath('//*[@id=\"item_CATTOT000000469834\"]/dl/dd[4]/a').click()\n",
    "info = dict()\n",
    "html = driver.page_source\n",
    "soup = BeautifulSoup(html, 'html.parser')"
   ]
  },
  {
   "cell_type": "code",
   "execution_count": null,
   "metadata": {},
   "outputs": [],
   "source": [
    "soup = BeautifulSoup(html, 'html.parser')"
   ]
  },
  {
   "cell_type": "code",
   "execution_count": null,
   "metadata": {},
   "outputs": [],
   "source": [
    "table = soup.find('tbody')\n"
   ]
  },
  {
   "cell_type": "code",
   "execution_count": 114,
   "metadata": {},
   "outputs": [
    {
     "data": {
      "text/plain": [
       "<tbody>\n",
       "<tr><th scope=\"row\">자료유형</th><td>단행본</td></tr><tr><th scope=\"row\">서명/저자사항</th><td>82년생 김지영: 조남주 장편소설 / 조남주 [지음].</td></tr><tr><th scope=\"row\">개인저자</th><td><a href=\"/search/tot/result?st=FRNT&amp;si=2&amp;q=조남주\" title=\"이 키워드로 더 검색하기\">조남주</a>, 저<br/></td></tr><tr><th scope=\"row\">발행사항</th><td>서울 : 민음사, 2016.</td></tr><tr><th scope=\"row\">형태사항</th><td>190 p. ; 20cm.</td></tr><tr><th scope=\"row\">총서사항</th><td><a href=\"/search/tot/result?st=FRNT&amp;si=1&amp;q=오늘의 젊은 작가;\" title=\"이 키워드로 더 검색하기\">오늘의 젊은 작가</a>;13<br/></td></tr><tr><th scope=\"row\">ISBN</th><td>9788937473005(세트)<br/>9788937473135<br/></td></tr><tr><th scope=\"row\">비통제주제어</th><td><a href=\"/search/tot/result?st=FRNT&amp;si=4&amp;q=한국문학\" title=\"이 키워드로 더 검색하기\">한국문학</a>,<a href=\"/search/tot/result?st=FRNT&amp;si=4&amp;q=한국현대소설\" title=\"이 키워드로 더 검색하기\">한국현대소설</a>,<a href=\"/search/tot/result?st=FRNT&amp;si=4&amp;q=장편소설\" title=\"이 키워드로 더 검색하기\">장편소설</a></td></tr><tr><th scope=\"row\">분류기호</th><td><a href=\"/search/tot/result?st=FRNT&amp;si=13&amp;q=813.7\" title=\"이 키워드로 더 검색하기\">813.7</a> <br/></td></tr><tr><th scope=\"row\">언어</th><td>한국어</td></tr>\n",
       "</tbody>"
      ]
     },
     "execution_count": 114,
     "metadata": {},
     "output_type": "execute_result"
    }
   ],
   "source": [
    "table"
   ]
  },
  {
   "cell_type": "code",
   "execution_count": 115,
   "metadata": {},
   "outputs": [],
   "source": [
    "for thtd in table.find_all(\"tr\"):\n",
    "    temp = thtd.th.get_text()\n",
    "    if temp.replace('\\n', '') == '자료유형':\n",
    "        info['datatype'] = thtd.td.get_text().replace('\\n', '')\n",
    "    elif temp.replace('\\n', '') == '서명/저자사항':\n",
    "        info['signature'] = thtd.td.get_text().replace('\\n', '')\n",
    "    elif temp.replace('\\n', '') == '개인저자':\n",
    "        info['personal_author'] = thtd.td.get_text().replace('\\n', '')\n",
    "    elif temp.replace('\\n', '') == '발행사항':\n",
    "        info['publication_type'] = thtd.td.get_text().replace('\\n', '')\n",
    "    elif temp.replace('\\n', '') == '형태사항':\n",
    "        info['form_type'] = thtd.td.get_text().replace('\\n', '')\n",
    "    elif temp.replace('\\n', '') == '원서명':\n",
    "        info['original_title'] = thtd.td.get_text().replace('\\n', '')\n",
    "    elif temp.replace('\\n', '') == 'ISBN':\n",
    "        info['ISBN'] = thtd.td.get_text().replace('\\n', '')\n",
    "    elif temp.replace('\\n', '') == '일반주기':\n",
    "        info['general_note'] = thtd.td.get_text().replace('\\n', '')\n",
    "    elif temp.replace('\\n', '') == '서지주기':\n",
    "        info['book_note'] = thtd.td.get_text().replace('\\n', '')\n",
    "    elif temp.replace('\\n', '') == '일반주제명':\n",
    "        info['general_subject'] = thtd.td.get_text().replace('\\n', '')\n",
    "    elif temp.replace('\\n', '') == '분류기호':\n",
    "        info['class_sign'] = thtd.td.get_text().replace('\\n', '')\n",
    "    elif temp.replace('\\n', '') == '언어':\n",
    "        info['language'] = thtd.td.get_text().replace('\\n', '')"
   ]
  },
  {
   "cell_type": "code",
   "execution_count": 116,
   "metadata": {
    "scrolled": false
   },
   "outputs": [
    {
     "data": {
      "text/plain": [
       "{'datatype': '단행본',\n",
       " 'signature': '82년생 김지영: 조남주 장편소설 / 조남주 [지음].',\n",
       " 'personal_author': '조남주, 저',\n",
       " 'publication_type': '서울 : 민음사, 2016.',\n",
       " 'form_type': '190 p. ; 20cm.',\n",
       " 'ISBN': '9788937473005(세트)9788937473135',\n",
       " 'class_sign': '813.7 ',\n",
       " 'language': '한국어'}"
      ]
     },
     "execution_count": 116,
     "metadata": {},
     "output_type": "execute_result"
    }
   ],
   "source": [
    "info"
   ]
  },
  {
   "cell_type": "code",
   "execution_count": 129,
   "metadata": {},
   "outputs": [],
   "source": [
    "collect_info = dict()"
   ]
  },
  {
   "cell_type": "code",
   "execution_count": 127,
   "metadata": {
    "scrolled": true
   },
   "outputs": [
    {
     "name": "stdout",
     "output_type": "stream",
     "text": [
      "<tr class=\"first\">\n",
      "<td class=\"num expand footable-first-column\">1</td>\n",
      "<td class=\"accessionNo\">534762</td>\n",
      "<td class=\"callNum\">813.7 조1928</td>\n",
      "<td class=\"location\">\n",
      "\t\t\t                    \n",
      "\t\t\t                        \n",
      "\t\t\t                        \n",
      "\t\t\t                        중앙도서관/동양서 제2자료실(6층)/\n",
      "\t\t\t                    \n",
      "\t                        </td>\n",
      "<td>\n",
      "<span class=\"status ing\">대출중</span>\n",
      "</td>\n",
      "<td class=\"returnDate\">2018-12-27</td>\n",
      "<td>\n",
      "</td>\n",
      "<td class=\"service\">\n",
      "<div class=\"serviceInfo\">\n",
      "</div>\n",
      "</td>\n",
      "<td class=\"info footable-last-column\">\n",
      "<div class=\"serviceInfo\">\n",
      "</div>\n",
      "</td>\n",
      "</tr>\n",
      "<tr>\n",
      "<td class=\"num expand footable-first-column\">2</td>\n",
      "<td class=\"accessionNo\">534763</td>\n",
      "<td class=\"callNum\">813.7 조1928 C.2</td>\n",
      "<td class=\"location\">\n",
      "\t\t\t                    \n",
      "\t\t\t                        \n",
      "\t\t\t                        \n",
      "\t\t\t                        중앙도서관/동양서 제2자료실(6층)/\n",
      "\t\t\t                    \n",
      "\t                        </td>\n",
      "<td>\n",
      "<span class=\"status available\">대출가능</span>\n",
      "</td>\n",
      "<td class=\"returnDate\"></td>\n",
      "<td>\n",
      "</td>\n",
      "<td class=\"service\">\n",
      "<div class=\"serviceInfo\">\n",
      "<a class=\"service\" href=\"/missrepo/write?accession_no=000000534763\"><img alt=\"서가에 없는 책 신청\" height=\"16\" src=\"/image/ko/solution/common/ico/missrepo.gif\" title=\"서가에 없는 책 신청\" width=\"16\"/></a>\n",
      "</div>\n",
      "</td>\n",
      "<td class=\"info footable-last-column\">\n",
      "<div class=\"serviceInfo\">\n",
      "</div>\n",
      "</td>\n",
      "</tr>\n",
      "<tr>\n",
      "<td class=\"num expand footable-first-column\">3</td>\n",
      "<td class=\"accessionNo\">540279</td>\n",
      "<td class=\"callNum\">813.7 조1928 C.3</td>\n",
      "<td class=\"location\">\n",
      "\t\t\t                    \n",
      "\t\t\t                        \n",
      "\t\t\t                        \n",
      "\t\t\t                        중앙도서관/동양서 제2자료실(6층)/\n",
      "\t\t\t                    \n",
      "\t                        </td>\n",
      "<td>\n",
      "<span class=\"status available\">대출가능</span>\n",
      "</td>\n",
      "<td class=\"returnDate\"></td>\n",
      "<td>\n",
      "</td>\n",
      "<td class=\"service\">\n",
      "<div class=\"serviceInfo\">\n",
      "<a class=\"service\" href=\"/missrepo/write?accession_no=000000540279\"><img alt=\"서가에 없는 책 신청\" height=\"16\" src=\"/image/ko/solution/common/ico/missrepo.gif\" title=\"서가에 없는 책 신청\" width=\"16\"/></a>\n",
      "</div>\n",
      "</td>\n",
      "<td class=\"info footable-last-column\">\n",
      "<div class=\"serviceInfo\">\n",
      "</div>\n",
      "</td>\n",
      "</tr>\n"
     ]
    }
   ],
   "source": [
    "collect_table = soup.select_one('#divContent > div > div:nth-child(6) > div.searchContents > div > table > tbody')\n",
    "collect_table.find_all(\"tr\")\n",
    "for tr in collect_table.find_all(\"tr\"):\n",
    "    print(tr)\n",
    "    if driver.find_element_by_class_name(\"footable-first-column\"):\n",
    "        collect_info['NO'] += tr.td.get_text()"
   ]
  },
  {
   "cell_type": "markdown",
   "metadata": {},
   "source": [
    "## 책검색해서 그 페이지에서 책 정보 가져오기(정적) -> (동적으로 고치기)"
   ]
  },
  {
   "cell_type": "code",
   "execution_count": 4,
   "metadata": {
    "scrolled": false
   },
   "outputs": [
    {
     "ename": "NoSuchElementException",
     "evalue": "Message: no such element: Unable to locate element: {\"method\":\"xpath\",\"selector\":\"//*[@id=\"item_CATTOT000000011364\"]/dl/dd[11]/div/p/a\"}\n  (Session info: chrome=71.0.3578.98)\n  (Driver info: chromedriver=2.45.615355 (d5698f682d8b2742017df6c81e0bd8e6a3063189),platform=Mac OS X 10.13.6 x86_64)\n",
     "output_type": "error",
     "traceback": [
      "\u001b[0;31m---------------------------------------------------------------------------\u001b[0m",
      "\u001b[0;31mNoSuchElementException\u001b[0m                    Traceback (most recent call last)",
      "\u001b[0;32m<ipython-input-4-ee6d866e9e67>\u001b[0m in \u001b[0;36m<module>\u001b[0;34m\u001b[0m\n\u001b[1;32m      4\u001b[0m \u001b[0melem\u001b[0m\u001b[0;34m.\u001b[0m\u001b[0msend_keys\u001b[0m\u001b[0;34m(\u001b[0m\u001b[0;34m'82년생 김지영'\u001b[0m\u001b[0;34m)\u001b[0m\u001b[0;34m\u001b[0m\u001b[0m\n\u001b[1;32m      5\u001b[0m \u001b[0melem\u001b[0m\u001b[0;34m.\u001b[0m\u001b[0msend_keys\u001b[0m\u001b[0;34m(\u001b[0m\u001b[0mKeys\u001b[0m\u001b[0;34m.\u001b[0m\u001b[0mRETURN\u001b[0m\u001b[0;34m)\u001b[0m\u001b[0;34m\u001b[0m\u001b[0m\n\u001b[0;32m----> 6\u001b[0;31m \u001b[0mdriver\u001b[0m\u001b[0;34m.\u001b[0m\u001b[0mfind_element_by_xpath\u001b[0m\u001b[0;34m(\u001b[0m\u001b[0;34m'//*[@id=\"item_CATTOT000000011364\"]/dl/dd[11]/div/p/a'\u001b[0m\u001b[0;34m)\u001b[0m\u001b[0;34m.\u001b[0m\u001b[0mclick\u001b[0m\u001b[0;34m(\u001b[0m\u001b[0;34m)\u001b[0m\u001b[0;34m\u001b[0m\u001b[0m\n\u001b[0m\u001b[1;32m      7\u001b[0m \u001b[0;31m# html = driver.page_source\u001b[0m\u001b[0;34m\u001b[0m\u001b[0;34m\u001b[0m\u001b[0m\n\u001b[1;32m      8\u001b[0m \u001b[0;31m# soup = BeautifulSoup(html, 'html.parser')\u001b[0m\u001b[0;34m\u001b[0m\u001b[0;34m\u001b[0m\u001b[0m\n",
      "\u001b[0;32m/usr/local/var/pyenv/versions/3.6.6/envs/kakao/lib/python3.6/site-packages/selenium/webdriver/remote/webdriver.py\u001b[0m in \u001b[0;36mfind_element_by_xpath\u001b[0;34m(self, xpath)\u001b[0m\n\u001b[1;32m    392\u001b[0m             \u001b[0melement\u001b[0m \u001b[0;34m=\u001b[0m \u001b[0mdriver\u001b[0m\u001b[0;34m.\u001b[0m\u001b[0mfind_element_by_xpath\u001b[0m\u001b[0;34m(\u001b[0m\u001b[0;34m'//div/td[1]'\u001b[0m\u001b[0;34m)\u001b[0m\u001b[0;34m\u001b[0m\u001b[0m\n\u001b[1;32m    393\u001b[0m         \"\"\"\n\u001b[0;32m--> 394\u001b[0;31m         \u001b[0;32mreturn\u001b[0m \u001b[0mself\u001b[0m\u001b[0;34m.\u001b[0m\u001b[0mfind_element\u001b[0m\u001b[0;34m(\u001b[0m\u001b[0mby\u001b[0m\u001b[0;34m=\u001b[0m\u001b[0mBy\u001b[0m\u001b[0;34m.\u001b[0m\u001b[0mXPATH\u001b[0m\u001b[0;34m,\u001b[0m \u001b[0mvalue\u001b[0m\u001b[0;34m=\u001b[0m\u001b[0mxpath\u001b[0m\u001b[0;34m)\u001b[0m\u001b[0;34m\u001b[0m\u001b[0m\n\u001b[0m\u001b[1;32m    395\u001b[0m \u001b[0;34m\u001b[0m\u001b[0m\n\u001b[1;32m    396\u001b[0m     \u001b[0;32mdef\u001b[0m \u001b[0mfind_elements_by_xpath\u001b[0m\u001b[0;34m(\u001b[0m\u001b[0mself\u001b[0m\u001b[0;34m,\u001b[0m \u001b[0mxpath\u001b[0m\u001b[0;34m)\u001b[0m\u001b[0;34m:\u001b[0m\u001b[0;34m\u001b[0m\u001b[0m\n",
      "\u001b[0;32m/usr/local/var/pyenv/versions/3.6.6/envs/kakao/lib/python3.6/site-packages/selenium/webdriver/remote/webdriver.py\u001b[0m in \u001b[0;36mfind_element\u001b[0;34m(self, by, value)\u001b[0m\n\u001b[1;32m    976\u001b[0m         return self.execute(Command.FIND_ELEMENT, {\n\u001b[1;32m    977\u001b[0m             \u001b[0;34m'using'\u001b[0m\u001b[0;34m:\u001b[0m \u001b[0mby\u001b[0m\u001b[0;34m,\u001b[0m\u001b[0;34m\u001b[0m\u001b[0m\n\u001b[0;32m--> 978\u001b[0;31m             'value': value})['value']\n\u001b[0m\u001b[1;32m    979\u001b[0m \u001b[0;34m\u001b[0m\u001b[0m\n\u001b[1;32m    980\u001b[0m     \u001b[0;32mdef\u001b[0m \u001b[0mfind_elements\u001b[0m\u001b[0;34m(\u001b[0m\u001b[0mself\u001b[0m\u001b[0;34m,\u001b[0m \u001b[0mby\u001b[0m\u001b[0;34m=\u001b[0m\u001b[0mBy\u001b[0m\u001b[0;34m.\u001b[0m\u001b[0mID\u001b[0m\u001b[0;34m,\u001b[0m \u001b[0mvalue\u001b[0m\u001b[0;34m=\u001b[0m\u001b[0;32mNone\u001b[0m\u001b[0;34m)\u001b[0m\u001b[0;34m:\u001b[0m\u001b[0;34m\u001b[0m\u001b[0m\n",
      "\u001b[0;32m/usr/local/var/pyenv/versions/3.6.6/envs/kakao/lib/python3.6/site-packages/selenium/webdriver/remote/webdriver.py\u001b[0m in \u001b[0;36mexecute\u001b[0;34m(self, driver_command, params)\u001b[0m\n\u001b[1;32m    319\u001b[0m         \u001b[0mresponse\u001b[0m \u001b[0;34m=\u001b[0m \u001b[0mself\u001b[0m\u001b[0;34m.\u001b[0m\u001b[0mcommand_executor\u001b[0m\u001b[0;34m.\u001b[0m\u001b[0mexecute\u001b[0m\u001b[0;34m(\u001b[0m\u001b[0mdriver_command\u001b[0m\u001b[0;34m,\u001b[0m \u001b[0mparams\u001b[0m\u001b[0;34m)\u001b[0m\u001b[0;34m\u001b[0m\u001b[0m\n\u001b[1;32m    320\u001b[0m         \u001b[0;32mif\u001b[0m \u001b[0mresponse\u001b[0m\u001b[0;34m:\u001b[0m\u001b[0;34m\u001b[0m\u001b[0m\n\u001b[0;32m--> 321\u001b[0;31m             \u001b[0mself\u001b[0m\u001b[0;34m.\u001b[0m\u001b[0merror_handler\u001b[0m\u001b[0;34m.\u001b[0m\u001b[0mcheck_response\u001b[0m\u001b[0;34m(\u001b[0m\u001b[0mresponse\u001b[0m\u001b[0;34m)\u001b[0m\u001b[0;34m\u001b[0m\u001b[0m\n\u001b[0m\u001b[1;32m    322\u001b[0m             response['value'] = self._unwrap_value(\n\u001b[1;32m    323\u001b[0m                 response.get('value', None))\n",
      "\u001b[0;32m/usr/local/var/pyenv/versions/3.6.6/envs/kakao/lib/python3.6/site-packages/selenium/webdriver/remote/errorhandler.py\u001b[0m in \u001b[0;36mcheck_response\u001b[0;34m(self, response)\u001b[0m\n\u001b[1;32m    240\u001b[0m                 \u001b[0malert_text\u001b[0m \u001b[0;34m=\u001b[0m \u001b[0mvalue\u001b[0m\u001b[0;34m[\u001b[0m\u001b[0;34m'alert'\u001b[0m\u001b[0;34m]\u001b[0m\u001b[0;34m.\u001b[0m\u001b[0mget\u001b[0m\u001b[0;34m(\u001b[0m\u001b[0;34m'text'\u001b[0m\u001b[0;34m)\u001b[0m\u001b[0;34m\u001b[0m\u001b[0m\n\u001b[1;32m    241\u001b[0m             \u001b[0;32mraise\u001b[0m \u001b[0mexception_class\u001b[0m\u001b[0;34m(\u001b[0m\u001b[0mmessage\u001b[0m\u001b[0;34m,\u001b[0m \u001b[0mscreen\u001b[0m\u001b[0;34m,\u001b[0m \u001b[0mstacktrace\u001b[0m\u001b[0;34m,\u001b[0m \u001b[0malert_text\u001b[0m\u001b[0;34m)\u001b[0m\u001b[0;34m\u001b[0m\u001b[0m\n\u001b[0;32m--> 242\u001b[0;31m         \u001b[0;32mraise\u001b[0m \u001b[0mexception_class\u001b[0m\u001b[0;34m(\u001b[0m\u001b[0mmessage\u001b[0m\u001b[0;34m,\u001b[0m \u001b[0mscreen\u001b[0m\u001b[0;34m,\u001b[0m \u001b[0mstacktrace\u001b[0m\u001b[0;34m)\u001b[0m\u001b[0;34m\u001b[0m\u001b[0m\n\u001b[0m\u001b[1;32m    243\u001b[0m \u001b[0;34m\u001b[0m\u001b[0m\n\u001b[1;32m    244\u001b[0m     \u001b[0;32mdef\u001b[0m \u001b[0m_value_or_default\u001b[0m\u001b[0;34m(\u001b[0m\u001b[0mself\u001b[0m\u001b[0;34m,\u001b[0m \u001b[0mobj\u001b[0m\u001b[0;34m,\u001b[0m \u001b[0mkey\u001b[0m\u001b[0;34m,\u001b[0m \u001b[0mdefault\u001b[0m\u001b[0;34m)\u001b[0m\u001b[0;34m:\u001b[0m\u001b[0;34m\u001b[0m\u001b[0m\n",
      "\u001b[0;31mNoSuchElementException\u001b[0m: Message: no such element: Unable to locate element: {\"method\":\"xpath\",\"selector\":\"//*[@id=\"item_CATTOT000000011364\"]/dl/dd[11]/div/p/a\"}\n  (Session info: chrome=71.0.3578.98)\n  (Driver info: chromedriver=2.45.615355 (d5698f682d8b2742017df6c81e0bd8e6a3063189),platform=Mac OS X 10.13.6 x86_64)\n"
     ]
    }
   ],
   "source": [
    "driver = webdriver.Chrome(chromedriver_dir)\n",
    "driver.get('https://nsulib.nsu.ac.kr/')\n",
    "elem = driver.find_element_by_name(\"q\")  # 학교 홈페이지 검색창\n",
    "elem.send_keys('82년생 김지영')\n",
    "elem.send_keys(Keys.RETURN)\n",
    "driver.find_element_by_xpath('//*[@id=\"item_CATTOT000000011364\"]/dl/dd[11]/div/p/a').click()\n",
    "# html = driver.page_source\n",
    "# soup = BeautifulSoup(html, 'html.parser')\n",
    "time.sleep(1)\n",
    "elem = driver.find_element_by_xpath('//*[@id=\"holdingW_CAT000000011364_1\"]/div[2]')\n",
    "html = elem.get_attribute('innerHTML')\n",
    "soup = BeautifulSoup(html, 'html.parser')\n",
    "tbody = soup.find('tbody')\n",
    "book_info = []\n",
    "for tr in tbody.find_all('tr'):\n",
    "    book_tmp = dict()\n",
    "    book_tmp['no'] = tr.select_one('.footable-first-column').get_text()\n",
    "    book_tmp['location'] = tr.select_one('.location').get_text()\n",
    "    book_tmp['serial_num'] = tr.select_one('.callNum').get_text()\n",
    "    book_tmp['status'] = tr.select_one('.status').get_text()\n",
    "    book_tmp['returnDate'] = tr.select_one('.returnDate').get_text()\n",
    "    book_info.append(book_tmp)\n",
    "book_info"
   ]
  },
  {
   "cell_type": "markdown",
   "metadata": {},
   "source": [
    "## 책 검색 후 여러권을 선택하고나서 책 정보들을 가져오기"
   ]
  },
  {
   "cell_type": "code",
   "execution_count": 16,
   "metadata": {},
   "outputs": [],
   "source": [
    "a = \"컴퓨터구조\""
   ]
  },
  {
   "cell_type": "code",
   "execution_count": 22,
   "metadata": {},
   "outputs": [
    {
     "name": "stdout",
     "output_type": "stream",
     "text": [
      "{'title': '82년생 김지영 : 조남주 장편소설', 'author': '조남주', 'publisher': '민음사', 'publish_year': '2016', '1': {'no': '1', 'location': '중앙도서관/동양서 제2자료실(6층)/', 'serial_num': '813.7 조1928', 'status': '대출중', 'returnDate': '20181227'}, '2': {'no': '2', 'location': '중앙도서관/동양서 제2자료실(6층)/', 'serial_num': '813.7 조1928 C.2', 'status': '대출가능', 'returnDate': ''}, '3': {'no': '3', 'location': '중앙도서관/동양서 제2자료실(6층)/', 'serial_num': '813.7 조1928 C.3', 'status': '대출가능', 'returnDate': ''}}\n"
     ]
    }
   ],
   "source": [
    "driver = webdriver.Chrome(chromedriver_dir)\n",
    "driver.get('https://nsulib.nsu.ac.kr/')\n",
    "elem = driver.find_element_by_id('type1q')  # 학교 홈페이지 검색창\n",
    "elem.send_keys('82년생 김지영')  # 이 부분에 검색하고 싶은 도서 이름을 넣어주면 된다\n",
    "elem.send_keys(Keys.RETURN)\n",
    "a_tag = driver.find_elements_by_xpath('//a[contains(@href,\"#previewLocation\")]')\n",
    "for a in a_tag[:3+1]:\n",
    "    a.click()\n",
    "time.sleep(1)\n",
    "html = driver.page_source\n",
    "soup = BeautifulSoup(html, 'html.parser')\n",
    "ul = soup.select_one('.resultList')\n",
    "book_info = []\n",
    "for li in ul.select('.items'):\n",
    "    book_one = dict()\n",
    "    book_one['title'] = li.select_one('dd.title > a').get_text()\n",
    "    book_one['author'] = li.select('dd.info')[0].get_text()\n",
    "    book_one['publisher'] = li.select('dd.info')[1].get_text()\n",
    "    book_one['publish_year'] = li.select('dd.info')[2].get_text()\n",
    "    book_info.append(book_one)\n",
    "    tbody = soup.find('tbody')\n",
    "    for tr in tbody.find_all('tr'):\n",
    "        book_tmp = dict()\n",
    "        no = tr.select_one('.footable-first-column').get_text()\n",
    "        book_tmp['no'] = tr.select_one('.footable-first-column').get_text()\n",
    "        book_tmp['location'] = tr.select_one('.location').get_text()\n",
    "        book_tmp['serial_num'] = tr.select_one('.callNum').get_text()\n",
    "        book_tmp['status'] = tr.select_one('.status').get_text()\n",
    "        book_tmp['returnDate'] = tr.select_one('.returnDate').get_text()\n",
    "        book_one[f'{no}'] = book_tmp\n",
    "    print(book_one)"
   ]
  },
  {
   "cell_type": "code",
   "execution_count": 23,
   "metadata": {},
   "outputs": [
    {
     "data": {
      "text/plain": [
       "{'title': '82년생 김지영 : 조남주 장편소설',\n",
       " 'author': '조남주',\n",
       " 'publisher': '민음사',\n",
       " 'publish_year': '2016',\n",
       " '1': {'no': '1',\n",
       "  'location': '중앙도서관/동양서 제2자료실(6층)/',\n",
       "  'serial_num': '813.7 조1928',\n",
       "  'status': '대출중',\n",
       "  'returnDate': '20181227'},\n",
       " '2': {'no': '2',\n",
       "  'location': '중앙도서관/동양서 제2자료실(6층)/',\n",
       "  'serial_num': '813.7 조1928 C.2',\n",
       "  'status': '대출가능',\n",
       "  'returnDate': ''},\n",
       " '3': {'no': '3',\n",
       "  'location': '중앙도서관/동양서 제2자료실(6층)/',\n",
       "  'serial_num': '813.7 조1928 C.3',\n",
       "  'status': '대출가능',\n",
       "  'returnDate': ''}}"
      ]
     },
     "execution_count": 23,
     "metadata": {},
     "output_type": "execute_result"
    }
   ],
   "source": [
    "book_one"
   ]
  },
  {
   "cell_type": "code",
   "execution_count": 10,
   "metadata": {},
   "outputs": [
    {
     "name": "stdout",
     "output_type": "stream",
     "text": [
      "{'title': '82년생 김지영 : 조남주 장편소설', 'author': '조남주', 'publisher': '민음사', 'publish_year': '2016'}\n"
     ]
    }
   ],
   "source": [
    "ul = soup.select_one('.resultList')\n",
    "book_info = []\n",
    "for li in ul.select('.items'):\n",
    "    book_one = dict()\n",
    "    book_one['title'] = li.select_one('dd.title > a').get_text()\n",
    "    book_one['author'] = li.select('dd.info')[0].get_text()\n",
    "    book_one['publisher'] = li.select('dd.info')[1].get_text()\n",
    "    book_one['publish_year'] = li.select('dd.info')[2].get_text()\n",
    "    book_info.append(book_one)\n",
    "    tbody = soup.find('tbody')\n",
    "    if tbody is not None:\n",
    "        for tr in tbody.find_all('tr'):\n",
    "            book_tmp = dict()\n",
    "            no = tr.select_one('.footable-first-column').get_text()\n",
    "            book_tmp['no'] = tr.select_one('.footable-first-column').get_text()\n",
    "            book_tmp['location'] = tr.select_one('.location').get_text()\n",
    "            book_tmp['serial_num'] = tr.select_one('.callNum').get_text()\n",
    "            book_tmp['status'] = tr.select_one('.status').get_text()\n",
    "            book_tmp['returnDate'] = tr.select_one('.returnDate').get_text()\n",
    "            book_one[f'{no}'] = book_tmp\n",
    "    else:\n",
    "        \n",
    "    print(book_one)\n",
    "#     if \n",
    "#     print(li)\n",
    "#     print('------------------')"
   ]
  },
  {
   "cell_type": "code",
   "execution_count": 14,
   "metadata": {},
   "outputs": [],
   "source": [
    "soup.select_one('mobileTable')"
   ]
  },
  {
   "cell_type": "markdown",
   "metadata": {},
   "source": [
    "### dict 자료구조가 익숙하지 않아서 예제를 만들어보면서 구조를 공부함"
   ]
  },
  {
   "cell_type": "code",
   "execution_count": 118,
   "metadata": {},
   "outputs": [],
   "source": [
    "book1 = {'no': '1', 'location': '중앙도서관', 'date': '2019-01-22'}\n",
    "book2 = {'no': '2', 'location': '중앙도서관', 'date': ''}"
   ]
  },
  {
   "cell_type": "code",
   "execution_count": 125,
   "metadata": {
    "scrolled": true
   },
   "outputs": [
    {
     "data": {
      "text/plain": [
       "{'no': '1',\n",
       " 'location': '중앙도서관',\n",
       " 'date': '2019-01-22',\n",
       " 'no1': {'no': '2', 'location': '중앙도서관', 'date': ''}}"
      ]
     },
     "execution_count": 125,
     "metadata": {},
     "output_type": "execute_result"
    }
   ],
   "source": [
    "book1['no1'] = book2\n",
    "book1"
   ]
  },
  {
   "cell_type": "code",
   "execution_count": null,
   "metadata": {},
   "outputs": [],
   "source": [
    "first_dict = dict()\n",
    "second_dict = dict()"
   ]
  },
  {
   "cell_type": "code",
   "execution_count": null,
   "metadata": {},
   "outputs": [],
   "source": [
    "second_dict = {'1' : 'first',\n",
    "              '2': 'second'}"
   ]
  },
  {
   "cell_type": "code",
   "execution_count": 46,
   "metadata": {},
   "outputs": [],
   "source": [
    "first_dict= second_dict, third_dict"
   ]
  },
  {
   "cell_type": "code",
   "execution_count": 49,
   "metadata": {},
   "outputs": [
    {
     "name": "stdout",
     "output_type": "stream",
     "text": [
      "{'1': 'first', '2': 'second'}\n",
      "{'3': 'three', '4': 'four'}\n"
     ]
    }
   ],
   "source": [
    "for i in first_dict:\n",
    "    print(i)"
   ]
  },
  {
   "cell_type": "code",
   "execution_count": 45,
   "metadata": {},
   "outputs": [],
   "source": [
    "third_dict = {'3': 'three',\n",
    "             '4': 'four'}"
   ]
  },
  {
   "cell_type": "code",
   "execution_count": 42,
   "metadata": {},
   "outputs": [],
   "source": [
    "book_title = dict()\n",
    "book_reservation = dict()\n",
    "book_reservation = {'1': '123', '2': '123333333123', '3': '234'}\n",
    "\n"
   ]
  },
  {
   "cell_type": "code",
   "execution_count": 60,
   "metadata": {},
   "outputs": [],
   "source": [
    "book_info = {'datatype': '단행본',\n",
    " 'signature': '82년생 김지영: 조남주 장편소설 / 조남주 [지음].',\n",
    " 'personal_author': '조남주, 저',\n",
    " 'publication_type': '서울 : 민음사, 2016.',\n",
    " 'form_type': '190 p. ; 20cm.',\n",
    " 'ISBN': '9788937473005(세트)9788937473135',\n",
    " 'class_sign': '813.7 ',\n",
    " 'language': '한국어',\n",
    "            1 : {\n",
    "                'reservation': '예약가능'\n",
    "            },\n",
    "             2 : {\n",
    "                 'reservation': '예약불가'\n",
    "             }\n",
    "}"
   ]
  },
  {
   "cell_type": "code",
   "execution_count": 61,
   "metadata": {},
   "outputs": [
    {
     "data": {
      "text/plain": [
       "{'datatype': '단행본',\n",
       " 'signature': '82년생 김지영: 조남주 장편소설 / 조남주 [지음].',\n",
       " 'personal_author': '조남주, 저',\n",
       " 'publication_type': '서울 : 민음사, 2016.',\n",
       " 'form_type': '190 p. ; 20cm.',\n",
       " 'ISBN': '9788937473005(세트)9788937473135',\n",
       " 'class_sign': '813.7 ',\n",
       " 'language': '한국어',\n",
       " 1: {'reservation': '예약가능'},\n",
       " 2: {'reservation': '예약불가'}}"
      ]
     },
     "execution_count": 61,
     "metadata": {},
     "output_type": "execute_result"
    }
   ],
   "source": [
    "book_info"
   ]
  },
  {
   "cell_type": "code",
   "execution_count": 56,
   "metadata": {},
   "outputs": [],
   "source": [
    "info = dict\n",
    "book_info = dict\n",
    "book_reservation = dict"
   ]
  },
  {
   "cell_type": "code",
   "execution_count": 77,
   "metadata": {},
   "outputs": [],
   "source": [
    "book_dic = ['첫번째', '두번째', '세번째', '네번째']"
   ]
  },
  {
   "cell_type": "code",
   "execution_count": 79,
   "metadata": {},
   "outputs": [],
   "source": [
    "book_reset = {book_dic[0]: book_dic[1:]}"
   ]
  },
  {
   "cell_type": "code",
   "execution_count": 80,
   "metadata": {},
   "outputs": [
    {
     "data": {
      "text/plain": [
       "{'첫번째': ['두번째', '세번째', '네번째']}"
      ]
     },
     "execution_count": 80,
     "metadata": {},
     "output_type": "execute_result"
    }
   ],
   "source": [
    "book_reset"
   ]
  },
  {
   "cell_type": "code",
   "execution_count": null,
   "metadata": {},
   "outputs": [],
   "source": []
  }
 ],
 "metadata": {
  "kernelspec": {
   "display_name": "Python 3",
   "language": "python",
   "name": "python3"
  },
  "language_info": {
   "codemirror_mode": {
    "name": "ipython",
    "version": 3
   },
   "file_extension": ".py",
   "mimetype": "text/x-python",
   "name": "python",
   "nbconvert_exporter": "python",
   "pygments_lexer": "ipython3",
   "version": "3.6.6"
  }
 },
 "nbformat": 4,
 "nbformat_minor": 2
}
