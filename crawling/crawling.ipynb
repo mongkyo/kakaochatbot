{
 "cells": [
  {
   "cell_type": "code",
   "execution_count": 3,
   "metadata": {},
   "outputs": [],
   "source": [
    "from bs4 import BeautifulSoup\n",
    "import requests\n",
    "\n",
    "import sys\n",
    "import time\n",
    "import re\n",
    "import urllib.request\n"
   ]
  },
  {
   "cell_type": "code",
   "execution_count": 2,
   "metadata": {},
   "outputs": [],
   "source": [
    "chromedriver_dir = '/Users/mongkyo/Projects/kakao-chatbot/crawling/chromedriver'\n",
    "# options = webdriver.ChromeOptions()\n",
    "# options.add_argument('headless')\n",
    "# options.add_argument('window-size=1920x1080')\n",
    "# options.add_argument(\"disable-gpu\")\n",
    "# driver = webdriver.Chrome(chormedriver_dir, chrome_option=options)"
   ]
  },
  {
   "cell_type": "code",
   "execution_count": 6,
   "metadata": {},
   "outputs": [
    {
     "ename": "IndexError",
     "evalue": "list index out of range",
     "output_type": "error",
     "traceback": [
      "\u001b[0;31m---------------------------------------------------------------------------\u001b[0m",
      "\u001b[0;31mIndexError\u001b[0m                                Traceback (most recent call last)",
      "\u001b[0;32m<ipython-input-6-bdd5d2586f60>\u001b[0m in \u001b[0;36m<module>\u001b[0;34m\u001b[0m\n\u001b[1;32m      6\u001b[0m \u001b[0mul\u001b[0m \u001b[0;34m=\u001b[0m \u001b[0msoup\u001b[0m\u001b[0;34m.\u001b[0m\u001b[0mselect_one\u001b[0m\u001b[0;34m(\u001b[0m\u001b[0;34m'.resultList'\u001b[0m\u001b[0;34m)\u001b[0m\u001b[0;34m\u001b[0m\u001b[0;34m\u001b[0m\u001b[0m\n\u001b[1;32m      7\u001b[0m \u001b[0;32mfor\u001b[0m \u001b[0mi\u001b[0m \u001b[0;32min\u001b[0m \u001b[0mrange\u001b[0m\u001b[0;34m(\u001b[0m\u001b[0;36m0\u001b[0m\u001b[0;34m,\u001b[0m \u001b[0;36m2\u001b[0m \u001b[0;34m+\u001b[0m \u001b[0;36m1\u001b[0m\u001b[0;34m)\u001b[0m\u001b[0;34m:\u001b[0m\u001b[0;34m\u001b[0m\u001b[0;34m\u001b[0m\u001b[0m\n\u001b[0;32m----> 8\u001b[0;31m     \u001b[0mli\u001b[0m \u001b[0;34m=\u001b[0m \u001b[0mul\u001b[0m\u001b[0;34m.\u001b[0m\u001b[0mselect\u001b[0m\u001b[0;34m(\u001b[0m\u001b[0;34m'.items'\u001b[0m\u001b[0;34m)\u001b[0m\u001b[0;34m[\u001b[0m\u001b[0mi\u001b[0m\u001b[0;34m]\u001b[0m\u001b[0;34m\u001b[0m\u001b[0;34m\u001b[0m\u001b[0m\n\u001b[0m\u001b[1;32m      9\u001b[0m     \u001b[0mbook_one\u001b[0m \u001b[0;34m=\u001b[0m \u001b[0mdict\u001b[0m\u001b[0;34m(\u001b[0m\u001b[0;34m)\u001b[0m\u001b[0;34m\u001b[0m\u001b[0;34m\u001b[0m\u001b[0m\n\u001b[1;32m     10\u001b[0m     \u001b[0mbook_detail\u001b[0m \u001b[0;34m=\u001b[0m \u001b[0mdict\u001b[0m\u001b[0;34m(\u001b[0m\u001b[0;34m)\u001b[0m\u001b[0;34m\u001b[0m\u001b[0;34m\u001b[0m\u001b[0m\n",
      "\u001b[0;31mIndexError\u001b[0m: list index out of range"
     ]
    }
   ],
   "source": [
    "keyword = '82년생김지영'\n",
    "res = requests.get(f'https://nsulib.nsu.ac.kr/search/tot/result?st=KWRD&si=TOTAL&q={keyword}&x=0&y=0')\n",
    "html = res.text\n",
    "soup = BeautifulSoup(html, 'html.parser')\n",
    "book_info = []\n",
    "ul = soup.select_one('.resultList')\n"
   ]
  },
  {
   "cell_type": "code",
   "execution_count": 12,
   "metadata": {},
   "outputs": [
    {
     "data": {
      "text/plain": [
       "[<li class=\"items\" id=\"item_CATTOT000000469834\">\n",
       " <dl>\n",
       " <dt class=\"title\">선택</dt>\n",
       " <dd class=\"dataCheck\"><input name=\"data\" title=\"선택\" type=\"checkbox\" value=\"CAT000000469834\"/></dd>\n",
       " <dt class=\"title\">No</dt>\n",
       " <dd class=\"num\">1.</dd>\n",
       " <dt class=\"title\">표지이미지</dt>\n",
       " <dd class=\"book\">\n",
       " <a href=\"/search/detail/CATTOT000000469834?mainLink=/search/tot?mId=101020100&amp;briefLink=/search/tot/result?q=82%EB%85%84%EC%83%9D%EA%B9%80%EC%A7%80%EC%98%81_A_st=KWRD_A_y=0_A_x=0_A_si=TOTAL\">\n",
       " <img alt=\"표지이미지\" height=\"103\" id=\"bookImg_CATTOT000000469834\" src=\"/image/ko/solution/common/ico/type_m_M.png\" width=\"75\"/>\n",
       " </a>\n",
       " <p class=\"selectBtn\">\n",
       " <a class=\"cartBtn\" href=\"javascript:toggleBasket('CAT000000469834');\" id=\"basket_CAT000000469834\" title=\"바구니 담기\">바구니 담기</a>\n",
       " <a class=\"myLibBtn\" href=\"javascript:insertMyLib('CAT000000469834');\" id=\"myLib_CAT000000469834\" title=\"내서재에 담기\">내서재에 담기</a>\n",
       " </p>\n",
       " </dd>\n",
       " <dt class=\"title\">서명</dt>\n",
       " <dd class=\"title\">\n",
       " <a href=\"/search/detail/CATTOT000000469834?mainLink=/search/tot?mId=101020100&amp;briefLink=/search/tot/result?q=82%EB%85%84%EC%83%9D%EA%B9%80%EC%A7%80%EC%98%81_A_st=KWRD_A_y=0_A_x=0_A_si=TOTAL\">82년생 김지영 : 조남주 장편소설</a>\n",
       " <button onclick=\"previewDetail('CATTOT000000469834')\" title=\"상세보기\" type=\"button\">상세보기</button>\n",
       " <input class=\"addItem btnType2\" onclick=\"addItem('data=CAT000000469834');\" style=\"display:none;\" title=\"추가\" type=\"button\" value=\"추가\"/>\n",
       " </dd>\n",
       " <dt class=\"title\">저자</dt>\n",
       " <dd class=\"info\">조남주</dd>\n",
       " <dt class=\"title\">출판사</dt>\n",
       " <dd class=\"info\">민음사</dd>\n",
       " <dt class=\"title\">출판년</dt>\n",
       " <dd class=\"info\">2016</dd>\n",
       " <dt class=\"title\">자료유형</dt>\n",
       " <dd class=\"type info\">\n",
       " <img alt=\"단행본\" src=\"/image/ko/solution/common/ico/type_m.png\" title=\"단행본\"> 단행본\n",
       " \t\t\t\n",
       " \t\t\n",
       " \t\t\n",
       " \t</img></dd>\n",
       " <dt class=\"title\">매체정보</dt>\n",
       " <dd class=\"media\">\n",
       " <a href=\"/search/media/abs/CAT000000469834\" onclick=\"return openMedia(this,'ABS');\">초록</a>\n",
       " <a href=\"/search/media/toc/CAT000000469834\" onclick=\"return openMedia(this,'TOC');\">목차</a>\n",
       " </dd>\n",
       " <dt class=\"title\">미리보기</dt>\n",
       " <dd class=\"preview\">\n",
       " <div class=\"detailInfo\" id=\"prevDetail_CATTOT000000469834\" style=\"display:none;\"></div>\n",
       " </dd>\n",
       " <dt class=\"title\">소장처 정보</dt>\n",
       " <dd class=\"holdingInfo\">\n",
       " <div class=\"holding\">\n",
       " <p class=\"location\">\n",
       " <a href=\"#previewLocation\" onclick=\"javascript:previewHolding('1','1','CAT000000469834','0000NESS')\">중앙도서관<span class=\"availableBtn ing\" id=\"availableButton_CAT000000469834_1\">대출중</span></a>\n",
       " </p>\n",
       " <div class=\"holdingW\" id=\"holdingW_CAT000000469834_1\" style=\"display:none;\">\n",
       " </div>\n",
       " </div>\n",
       " </dd>\n",
       " </dl>\n",
       " </li>]"
      ]
     },
     "execution_count": 12,
     "metadata": {},
     "output_type": "execute_result"
    }
   ],
   "source": [
    "ul.select('.items')"
   ]
  },
  {
   "cell_type": "code",
   "execution_count": 15,
   "metadata": {},
   "outputs": [
    {
     "data": {
      "text/plain": [
       "{'title': '82년생 김지영 : 조남주 장편소설',\n",
       " 'author': '조남주',\n",
       " 'publisher': '민음사',\n",
       " 'publish_year': '2016',\n",
       " 'detail': {'no': '1',\n",
       "  'callNum': '추천 813.7 조192ㅍ',\n",
       "  'location': '중앙도서관/남서울대추천자료실(5층)/',\n",
       "  'status': '대출중'}}"
      ]
     },
     "execution_count": 15,
     "metadata": {},
     "output_type": "execute_result"
    }
   ],
   "source": [
    "li = ul.select('.items')[0]\n",
    "book_one = dict()\n",
    "book_detail = dict()\n",
    "book_one['title'] = li.select_one('dd.title > a').get_text()\n",
    "book_one['author'] = li.select('dd.info')[0].get_text()\n",
    "book_one['publisher'] = li.select('dd.info')[1].get_text()\n",
    "book_one['publish_year'] = li.select('dd.info')[2].get_text()\n",
    "test_text = li.get('id')\n",
    "no = re.search(r'(CAT\\w+\\d+)', test_text).group()\n",
    "detail_html = requests.get(f'https://nsulib.nsu.ac.kr/search/detail/{no}').text\n",
    "detail_soup = BeautifulSoup(detail_html, 'html.parser')\n",
    "div_li = detail_soup.select_one('.listTable > table')\n",
    "book_detail['no'] = div_li.select_one('td.num').get_text()\n",
    "book_detail['callNum'] = div_li.select_one('td.callNum').get_text()\n",
    "book_detail['location'] = div_li.select_one('td.location').get_text(\" \", strip=True)\n",
    "book_detail['status'] = div_li.select_one('span.status').get_text()\n",
    "book_one['detail'] = book_detail\n",
    "book_info.append(book_one)\n",
    "book_one"
   ]
  },
  {
   "cell_type": "markdown",
   "metadata": {},
   "source": [
    "## 미완성1 - 크롤링 완성인줄 알았음"
   ]
  },
  {
   "cell_type": "code",
   "execution_count": 3,
   "metadata": {},
   "outputs": [
    {
     "ename": "NoSuchWindowException",
     "evalue": "Message: no such window: target window already closed\nfrom unknown error: web view not found\n  (Session info: chrome=72.0.3626.96)\n  (Driver info: chromedriver=2.45.615355 (d5698f682d8b2742017df6c81e0bd8e6a3063189),platform=Mac OS X 10.13.6 x86_64)\n",
     "output_type": "error",
     "traceback": [
      "\u001b[0;31m---------------------------------------------------------------------------\u001b[0m",
      "\u001b[0;31mNoSuchWindowException\u001b[0m                     Traceback (most recent call last)",
      "\u001b[0;32m<ipython-input-3-21ea0e23ea46>\u001b[0m in \u001b[0;36m<module>\u001b[0;34m\u001b[0m\n\u001b[1;32m      1\u001b[0m \u001b[0mdriver\u001b[0m \u001b[0;34m=\u001b[0m \u001b[0mwebdriver\u001b[0m\u001b[0;34m.\u001b[0m\u001b[0mChrome\u001b[0m\u001b[0;34m(\u001b[0m\u001b[0mchromedriver_dir\u001b[0m\u001b[0;34m)\u001b[0m\u001b[0;34m\u001b[0m\u001b[0m\n\u001b[1;32m      2\u001b[0m \u001b[0mdriver\u001b[0m\u001b[0;34m.\u001b[0m\u001b[0mget\u001b[0m\u001b[0;34m(\u001b[0m\u001b[0;34m'https://nsulib.nsu.ac.kr/'\u001b[0m\u001b[0;34m)\u001b[0m\u001b[0;34m\u001b[0m\u001b[0m\n\u001b[0;32m----> 3\u001b[0;31m \u001b[0melem\u001b[0m \u001b[0;34m=\u001b[0m \u001b[0mdriver\u001b[0m\u001b[0;34m.\u001b[0m\u001b[0mfind_element_by_id\u001b[0m\u001b[0;34m(\u001b[0m\u001b[0;34m'type1q'\u001b[0m\u001b[0;34m)\u001b[0m  \u001b[0;31m# 학교 홈페이지 검색창\u001b[0m\u001b[0;34m\u001b[0m\u001b[0m\n\u001b[0m\u001b[1;32m      4\u001b[0m \u001b[0melem\u001b[0m\u001b[0;34m.\u001b[0m\u001b[0msend_keys\u001b[0m\u001b[0;34m(\u001b[0m\u001b[0;34m'검은집'\u001b[0m\u001b[0;34m)\u001b[0m  \u001b[0;31m# 이 부분에 검색하고 싶은 도서 이름을 넣어주면 된다\u001b[0m\u001b[0;34m\u001b[0m\u001b[0m\n\u001b[1;32m      5\u001b[0m \u001b[0melem\u001b[0m\u001b[0;34m.\u001b[0m\u001b[0msend_keys\u001b[0m\u001b[0;34m(\u001b[0m\u001b[0mKeys\u001b[0m\u001b[0;34m.\u001b[0m\u001b[0mRETURN\u001b[0m\u001b[0;34m)\u001b[0m\u001b[0;34m\u001b[0m\u001b[0m\n",
      "\u001b[0;32m/usr/local/var/pyenv/versions/3.6.6/envs/kakao-chatbot/lib/python3.6/site-packages/selenium/webdriver/remote/webdriver.py\u001b[0m in \u001b[0;36mfind_element_by_id\u001b[0;34m(self, id_)\u001b[0m\n\u001b[1;32m    358\u001b[0m             \u001b[0melement\u001b[0m \u001b[0;34m=\u001b[0m \u001b[0mdriver\u001b[0m\u001b[0;34m.\u001b[0m\u001b[0mfind_element_by_id\u001b[0m\u001b[0;34m(\u001b[0m\u001b[0;34m'foo'\u001b[0m\u001b[0;34m)\u001b[0m\u001b[0;34m\u001b[0m\u001b[0m\n\u001b[1;32m    359\u001b[0m         \"\"\"\n\u001b[0;32m--> 360\u001b[0;31m         \u001b[0;32mreturn\u001b[0m \u001b[0mself\u001b[0m\u001b[0;34m.\u001b[0m\u001b[0mfind_element\u001b[0m\u001b[0;34m(\u001b[0m\u001b[0mby\u001b[0m\u001b[0;34m=\u001b[0m\u001b[0mBy\u001b[0m\u001b[0;34m.\u001b[0m\u001b[0mID\u001b[0m\u001b[0;34m,\u001b[0m \u001b[0mvalue\u001b[0m\u001b[0;34m=\u001b[0m\u001b[0mid_\u001b[0m\u001b[0;34m)\u001b[0m\u001b[0;34m\u001b[0m\u001b[0m\n\u001b[0m\u001b[1;32m    361\u001b[0m \u001b[0;34m\u001b[0m\u001b[0m\n\u001b[1;32m    362\u001b[0m     \u001b[0;32mdef\u001b[0m \u001b[0mfind_elements_by_id\u001b[0m\u001b[0;34m(\u001b[0m\u001b[0mself\u001b[0m\u001b[0;34m,\u001b[0m \u001b[0mid_\u001b[0m\u001b[0;34m)\u001b[0m\u001b[0;34m:\u001b[0m\u001b[0;34m\u001b[0m\u001b[0m\n",
      "\u001b[0;32m/usr/local/var/pyenv/versions/3.6.6/envs/kakao-chatbot/lib/python3.6/site-packages/selenium/webdriver/remote/webdriver.py\u001b[0m in \u001b[0;36mfind_element\u001b[0;34m(self, by, value)\u001b[0m\n\u001b[1;32m    976\u001b[0m         return self.execute(Command.FIND_ELEMENT, {\n\u001b[1;32m    977\u001b[0m             \u001b[0;34m'using'\u001b[0m\u001b[0;34m:\u001b[0m \u001b[0mby\u001b[0m\u001b[0;34m,\u001b[0m\u001b[0;34m\u001b[0m\u001b[0m\n\u001b[0;32m--> 978\u001b[0;31m             'value': value})['value']\n\u001b[0m\u001b[1;32m    979\u001b[0m \u001b[0;34m\u001b[0m\u001b[0m\n\u001b[1;32m    980\u001b[0m     \u001b[0;32mdef\u001b[0m \u001b[0mfind_elements\u001b[0m\u001b[0;34m(\u001b[0m\u001b[0mself\u001b[0m\u001b[0;34m,\u001b[0m \u001b[0mby\u001b[0m\u001b[0;34m=\u001b[0m\u001b[0mBy\u001b[0m\u001b[0;34m.\u001b[0m\u001b[0mID\u001b[0m\u001b[0;34m,\u001b[0m \u001b[0mvalue\u001b[0m\u001b[0;34m=\u001b[0m\u001b[0;32mNone\u001b[0m\u001b[0;34m)\u001b[0m\u001b[0;34m:\u001b[0m\u001b[0;34m\u001b[0m\u001b[0m\n",
      "\u001b[0;32m/usr/local/var/pyenv/versions/3.6.6/envs/kakao-chatbot/lib/python3.6/site-packages/selenium/webdriver/remote/webdriver.py\u001b[0m in \u001b[0;36mexecute\u001b[0;34m(self, driver_command, params)\u001b[0m\n\u001b[1;32m    319\u001b[0m         \u001b[0mresponse\u001b[0m \u001b[0;34m=\u001b[0m \u001b[0mself\u001b[0m\u001b[0;34m.\u001b[0m\u001b[0mcommand_executor\u001b[0m\u001b[0;34m.\u001b[0m\u001b[0mexecute\u001b[0m\u001b[0;34m(\u001b[0m\u001b[0mdriver_command\u001b[0m\u001b[0;34m,\u001b[0m \u001b[0mparams\u001b[0m\u001b[0;34m)\u001b[0m\u001b[0;34m\u001b[0m\u001b[0m\n\u001b[1;32m    320\u001b[0m         \u001b[0;32mif\u001b[0m \u001b[0mresponse\u001b[0m\u001b[0;34m:\u001b[0m\u001b[0;34m\u001b[0m\u001b[0m\n\u001b[0;32m--> 321\u001b[0;31m             \u001b[0mself\u001b[0m\u001b[0;34m.\u001b[0m\u001b[0merror_handler\u001b[0m\u001b[0;34m.\u001b[0m\u001b[0mcheck_response\u001b[0m\u001b[0;34m(\u001b[0m\u001b[0mresponse\u001b[0m\u001b[0;34m)\u001b[0m\u001b[0;34m\u001b[0m\u001b[0m\n\u001b[0m\u001b[1;32m    322\u001b[0m             response['value'] = self._unwrap_value(\n\u001b[1;32m    323\u001b[0m                 response.get('value', None))\n",
      "\u001b[0;32m/usr/local/var/pyenv/versions/3.6.6/envs/kakao-chatbot/lib/python3.6/site-packages/selenium/webdriver/remote/errorhandler.py\u001b[0m in \u001b[0;36mcheck_response\u001b[0;34m(self, response)\u001b[0m\n\u001b[1;32m    240\u001b[0m                 \u001b[0malert_text\u001b[0m \u001b[0;34m=\u001b[0m \u001b[0mvalue\u001b[0m\u001b[0;34m[\u001b[0m\u001b[0;34m'alert'\u001b[0m\u001b[0;34m]\u001b[0m\u001b[0;34m.\u001b[0m\u001b[0mget\u001b[0m\u001b[0;34m(\u001b[0m\u001b[0;34m'text'\u001b[0m\u001b[0;34m)\u001b[0m\u001b[0;34m\u001b[0m\u001b[0m\n\u001b[1;32m    241\u001b[0m             \u001b[0;32mraise\u001b[0m \u001b[0mexception_class\u001b[0m\u001b[0;34m(\u001b[0m\u001b[0mmessage\u001b[0m\u001b[0;34m,\u001b[0m \u001b[0mscreen\u001b[0m\u001b[0;34m,\u001b[0m \u001b[0mstacktrace\u001b[0m\u001b[0;34m,\u001b[0m \u001b[0malert_text\u001b[0m\u001b[0;34m)\u001b[0m\u001b[0;34m\u001b[0m\u001b[0m\n\u001b[0;32m--> 242\u001b[0;31m         \u001b[0;32mraise\u001b[0m \u001b[0mexception_class\u001b[0m\u001b[0;34m(\u001b[0m\u001b[0mmessage\u001b[0m\u001b[0;34m,\u001b[0m \u001b[0mscreen\u001b[0m\u001b[0;34m,\u001b[0m \u001b[0mstacktrace\u001b[0m\u001b[0;34m)\u001b[0m\u001b[0;34m\u001b[0m\u001b[0m\n\u001b[0m\u001b[1;32m    243\u001b[0m \u001b[0;34m\u001b[0m\u001b[0m\n\u001b[1;32m    244\u001b[0m     \u001b[0;32mdef\u001b[0m \u001b[0m_value_or_default\u001b[0m\u001b[0;34m(\u001b[0m\u001b[0mself\u001b[0m\u001b[0;34m,\u001b[0m \u001b[0mobj\u001b[0m\u001b[0;34m,\u001b[0m \u001b[0mkey\u001b[0m\u001b[0;34m,\u001b[0m \u001b[0mdefault\u001b[0m\u001b[0;34m)\u001b[0m\u001b[0;34m:\u001b[0m\u001b[0;34m\u001b[0m\u001b[0m\n",
      "\u001b[0;31mNoSuchWindowException\u001b[0m: Message: no such window: target window already closed\nfrom unknown error: web view not found\n  (Session info: chrome=72.0.3626.96)\n  (Driver info: chromedriver=2.45.615355 (d5698f682d8b2742017df6c81e0bd8e6a3063189),platform=Mac OS X 10.13.6 x86_64)\n"
     ]
    }
   ],
   "source": [
    "driver = webdriver.Chrome(chromedriver_dir)\n",
    "driver.get('https://nsulib.nsu.ac.kr/')\n",
    "elem = driver.find_element_by_id('type1q')  # 학교 홈페이지 검색창\n",
    "elem.send_keys('검은집')  # 이 부분에 검색하고 싶은 도서 이름을 넣어주면 된다\n",
    "elem.send_keys(Keys.RETURN)\n",
    "a_tag = driver.find_elements_by_xpath('//a[contains(@href,\"#previewLocation\")]')\n",
    "for a in a_tag[:3+1]:\n",
    "    a.click()\n",
    "time.sleep(2)  # 클릭하고 html코드를 가져오는 과정이 너무 빨라서 클릭한 내용을 적용시키지 못하고 바로 긁어오기 때문에 html코드를 불러올 1초정도의 시간을 주는 것\n",
    "html = driver.page_source\n",
    "soup = BeautifulSoup(html, 'html.parser')\n",
    "ul = soup.select_one('.resultList')\n",
    "book_info = []\n",
    "for li in ul.select('.items'):\n",
    "    book_one = dict()\n",
    "    book_one['title'] = li.select_one('dd.title > a').get_text()\n",
    "    book_one['author'] = li.select('dd.info')[0].get_text()\n",
    "    book_one['publisher'] = li.select('dd.info')[1].get_text()\n",
    "    book_one['publish_year'] = li.select('dd.info')[2].get_text()\n",
    "    book_info.append(book_one)\n",
    "    tbody = soup.find('tbody')\n",
    "    for tr in tbody.find_all('tr'):\n",
    "        book_tmp = dict()\n",
    "        no = tr.select_one('.footable-first-column').get_text()\n",
    "        book_tmp['no'] = tr.select_one('.footable-first-column').get_text()\n",
    "        book_tmp['location'] = tr.select_one('.location').get_text()\n",
    "        book_tmp['serial_num'] = tr.select_one('.callNum').get_text()\n",
    "        book_tmp['status'] = tr.select_one('.status').get_text()\n",
    "        book_tmp['returnDate'] = tr.select_one('.returnDate').get_text()\n",
    "        book_one[f'{no}'] = book_tmp\n",
    "    print(book_one)"
   ]
  },
  {
   "cell_type": "markdown",
   "metadata": {},
   "source": [
    "# 완성"
   ]
  },
  {
   "cell_type": "code",
   "execution_count": 6,
   "metadata": {},
   "outputs": [
    {
     "name": "stdout",
     "output_type": "stream",
     "text": [
      "{'title': '검은 집', 'author': '기시 유스케', 'publisher': '창해', 'publish_year': '2004', '1': {'no': '1', 'location': '중앙도서관/동양서 제2자료실(6층)/', 'serial_num': '833.6 가58ㄱ', 'status': '분실(이용자분실)', 'returnDate': ''}}\n",
      "{'title': '검은 집', 'author': '기시 유스케', 'publisher': '창해', 'publish_year': '2004', '1': {'no': '1', 'location': '중앙도서관/동양서 제2자료실(6층)/', 'serial_num': '833.6 기58ㄱ2', 'status': '대출가능', 'returnDate': ''}}\n",
      "{'title': '검은 집', 'author': '기시 유스케', 'publisher': '창해', 'publish_year': '2013', '1': {'no': '1', 'location': '중앙도서관/동양서 제2자료실(6층)/', 'serial_num': '833.6 기58ㄱ3', 'status': '대출가능', 'returnDate': ''}}\n"
     ]
    }
   ],
   "source": [
    "driver = webdriver.Chrome(chromedriver_dir)\n",
    "driver.get('https://nsulib.nsu.ac.kr/')\n",
    "elem = driver.find_element_by_id('type1q')  # 학교 홈페이지 검색창\n",
    "elem.send_keys('검은집')  # 이 부분에 검색하고 싶은 도서 이름을 넣어주면 된다\n",
    "elem.send_keys(Keys.RETURN)\n",
    "a_tag = driver.find_elements_by_xpath('//a[contains(@href,\"#previewLocation\")]')\n",
    "for a in a_tag[:3+1]:\n",
    "    time.sleep(1)\n",
    "    a.click()\n",
    "time.sleep(2)  # 클릭하고 html코드를 가져오는 과정이 너무 빨라서 클릭한 내용을 적용시키지 못하고 바로 긁어오기 때문에 html코드를 불러올 1초정도의 시간을 주는 것\n",
    "html = driver.page_source\n",
    "soup = BeautifulSoup(html, 'html.parser')\n",
    "ul = soup.select_one('.resultList')\n",
    "book_info = []\n",
    "for i in range(0, 2+1):\n",
    "    li = ul.select('.items')[i]\n",
    "    book_one = dict()\n",
    "    book_one['title'] = li.select_one('dd.title > a').get_text()\n",
    "    book_one['author'] = li.select('dd.info')[0].get_text()\n",
    "    book_one['publisher'] = li.select('dd.info')[1].get_text()\n",
    "    book_one['publish_year'] = li.select('dd.info')[2].get_text()\n",
    "    book_info.append(book_one)\n",
    "    tbody = li.select_one('tbody')\n",
    "    for tr in tbody.find_all('tr'):\n",
    "        book_tmp = dict()\n",
    "        no = tr.select_one('.footable-first-column').get_text()\n",
    "        book_tmp['no'] = tr.select_one('.footable-first-column').get_text()\n",
    "        book_tmp['location'] = tr.select_one('.location').get_text()\n",
    "        book_tmp['serial_num'] = tr.select_one('.callNum').get_text()\n",
    "        book_tmp['status'] = tr.select_one('.status').get_text()\n",
    "        book_tmp['returnDate'] = tr.select_one('.returnDate').get_text()\n",
    "        book_one[f'{no}'] = book_tmp\n",
    "    print(book_one)"
   ]
  },
  {
   "cell_type": "markdown",
   "metadata": {},
   "source": [
    "## 아래는 크롤링 과정중에 사용했던 코드들 (지우기 아까워서 냅둠)"
   ]
  },
  {
   "cell_type": "markdown",
   "metadata": {},
   "source": [
    "### 정적으로 크롤링을 시도"
   ]
  },
  {
   "cell_type": "code",
   "execution_count": 20,
   "metadata": {},
   "outputs": [
    {
     "ename": "TypeError",
     "evalue": "object of type 'WebElement' has no len()",
     "output_type": "error",
     "traceback": [
      "\u001b[0;31m---------------------------------------------------------------------------\u001b[0m",
      "\u001b[0;31mTypeError\u001b[0m                                 Traceback (most recent call last)",
      "\u001b[0;32m<ipython-input-20-d0fcbaf71a40>\u001b[0m in \u001b[0;36m<module>\u001b[0;34m\u001b[0m\n\u001b[1;32m      2\u001b[0m \u001b[0mdriver\u001b[0m\u001b[0;34m.\u001b[0m\u001b[0mget\u001b[0m\u001b[0;34m(\u001b[0m\u001b[0;34m'https://nsulib.nsu.ac.kr/'\u001b[0m\u001b[0;34m)\u001b[0m\u001b[0;34m\u001b[0m\u001b[0m\n\u001b[1;32m      3\u001b[0m \u001b[0melem\u001b[0m \u001b[0;34m=\u001b[0m \u001b[0mdriver\u001b[0m\u001b[0;34m.\u001b[0m\u001b[0mfind_element_by_name\u001b[0m\u001b[0;34m(\u001b[0m\u001b[0;34m\"q\"\u001b[0m\u001b[0;34m)\u001b[0m\u001b[0;34m\u001b[0m\u001b[0m\n\u001b[0;32m----> 4\u001b[0;31m \u001b[0melem\u001b[0m\u001b[0;34m.\u001b[0m\u001b[0msend_keys\u001b[0m\u001b[0;34m(\u001b[0m\u001b[0ma\u001b[0m\u001b[0;34m)\u001b[0m\u001b[0;34m\u001b[0m\u001b[0m\n\u001b[0m\u001b[1;32m      5\u001b[0m \u001b[0melem\u001b[0m\u001b[0;34m.\u001b[0m\u001b[0msend_keys\u001b[0m\u001b[0;34m(\u001b[0m\u001b[0mKeys\u001b[0m\u001b[0;34m.\u001b[0m\u001b[0mRETURN\u001b[0m\u001b[0;34m)\u001b[0m\u001b[0;34m\u001b[0m\u001b[0m\n\u001b[1;32m      6\u001b[0m \u001b[0mdriver\u001b[0m\u001b[0;34m.\u001b[0m\u001b[0mfind_element_by_xpath\u001b[0m\u001b[0;34m(\u001b[0m\u001b[0;34m'//*[@id=\"item_CATTOT000000469834\"]/dl/dd[11]/div/p/a'\u001b[0m\u001b[0;34m)\u001b[0m\u001b[0;34m.\u001b[0m\u001b[0mclick\u001b[0m\u001b[0;34m(\u001b[0m\u001b[0;34m)\u001b[0m\u001b[0;34m\u001b[0m\u001b[0m\n",
      "\u001b[0;32m/usr/local/var/pyenv/versions/3.6.6/envs/kakao/lib/python3.6/site-packages/selenium/webdriver/remote/webelement.py\u001b[0m in \u001b[0;36msend_keys\u001b[0;34m(self, *value)\u001b[0m\n\u001b[1;32m    476\u001b[0m \u001b[0;34m\u001b[0m\u001b[0m\n\u001b[1;32m    477\u001b[0m         self._execute(Command.SEND_KEYS_TO_ELEMENT,\n\u001b[0;32m--> 478\u001b[0;31m                       {'text': \"\".join(keys_to_typing(value)),\n\u001b[0m\u001b[1;32m    479\u001b[0m                        'value': keys_to_typing(value)})\n\u001b[1;32m    480\u001b[0m \u001b[0;34m\u001b[0m\u001b[0m\n",
      "\u001b[0;32m/usr/local/var/pyenv/versions/3.6.6/envs/kakao/lib/python3.6/site-packages/selenium/webdriver/common/utils.py\u001b[0m in \u001b[0;36mkeys_to_typing\u001b[0;34m(value)\u001b[0m\n\u001b[1;32m    148\u001b[0m                 \u001b[0mtyping\u001b[0m\u001b[0;34m.\u001b[0m\u001b[0mappend\u001b[0m\u001b[0;34m(\u001b[0m\u001b[0mval\u001b[0m\u001b[0;34m[\u001b[0m\u001b[0mi\u001b[0m\u001b[0;34m]\u001b[0m\u001b[0;34m)\u001b[0m\u001b[0;34m\u001b[0m\u001b[0m\n\u001b[1;32m    149\u001b[0m         \u001b[0;32melse\u001b[0m\u001b[0;34m:\u001b[0m\u001b[0;34m\u001b[0m\u001b[0m\n\u001b[0;32m--> 150\u001b[0;31m             \u001b[0;32mfor\u001b[0m \u001b[0mi\u001b[0m \u001b[0;32min\u001b[0m \u001b[0mrange\u001b[0m\u001b[0;34m(\u001b[0m\u001b[0mlen\u001b[0m\u001b[0;34m(\u001b[0m\u001b[0mval\u001b[0m\u001b[0;34m)\u001b[0m\u001b[0;34m)\u001b[0m\u001b[0;34m:\u001b[0m\u001b[0;34m\u001b[0m\u001b[0m\n\u001b[0m\u001b[1;32m    151\u001b[0m                 \u001b[0mtyping\u001b[0m\u001b[0;34m.\u001b[0m\u001b[0mappend\u001b[0m\u001b[0;34m(\u001b[0m\u001b[0mval\u001b[0m\u001b[0;34m[\u001b[0m\u001b[0mi\u001b[0m\u001b[0;34m]\u001b[0m\u001b[0;34m)\u001b[0m\u001b[0;34m\u001b[0m\u001b[0m\n\u001b[1;32m    152\u001b[0m     \u001b[0;32mreturn\u001b[0m \u001b[0mtyping\u001b[0m\u001b[0;34m\u001b[0m\u001b[0m\n",
      "\u001b[0;31mTypeError\u001b[0m: object of type 'WebElement' has no len()"
     ]
    }
   ],
   "source": [
    "driver = webdriver.Chrome(chromedriver_dir)\n",
    "driver.get('https://nsulib.nsu.ac.kr/')\n",
    "elem = driver.find_element_by_name(\"q\")\n",
    "elem.send_keys(a)\n",
    "elem.send_keys(Keys.RETURN)\n",
    "driver.find_element_by_xpath('//*[@id=\"item_CATTOT000000469834\"]/dl/dd[11]/div/p/a').click()\n",
    "driver.find_element_by_xpath('//*[@id=\"item_CATTOT000000469834\"]/dl/dd[4]/a').click()\n",
    "info = dict()\n",
    "html = driver.page_source\n",
    "soup = BeautifulSoup(html, 'html.parser')"
   ]
  },
  {
   "cell_type": "code",
   "execution_count": null,
   "metadata": {},
   "outputs": [],
   "source": [
    "soup = BeautifulSoup(html, 'html.parser')"
   ]
  },
  {
   "cell_type": "code",
   "execution_count": null,
   "metadata": {},
   "outputs": [],
   "source": [
    "table = soup.find('tbody')\n"
   ]
  },
  {
   "cell_type": "code",
   "execution_count": 32,
   "metadata": {},
   "outputs": [
    {
     "ename": "AttributeError",
     "evalue": "'NoneType' object has no attribute 'find_all'",
     "output_type": "error",
     "traceback": [
      "\u001b[0;31m---------------------------------------------------------------------------\u001b[0m",
      "\u001b[0;31mAttributeError\u001b[0m                            Traceback (most recent call last)",
      "\u001b[0;32m<ipython-input-32-97bcc1eaa409>\u001b[0m in \u001b[0;36m<module>\u001b[0;34m\u001b[0m\n\u001b[0;32m----> 1\u001b[0;31m \u001b[0;32mfor\u001b[0m \u001b[0mthtd\u001b[0m \u001b[0;32min\u001b[0m \u001b[0mtable\u001b[0m\u001b[0;34m.\u001b[0m\u001b[0mfind_all\u001b[0m\u001b[0;34m(\u001b[0m\u001b[0;34m\"tr\"\u001b[0m\u001b[0;34m)\u001b[0m\u001b[0;34m:\u001b[0m\u001b[0;34m\u001b[0m\u001b[0m\n\u001b[0m\u001b[1;32m      2\u001b[0m     \u001b[0mtemp\u001b[0m \u001b[0;34m=\u001b[0m \u001b[0mthtd\u001b[0m\u001b[0;34m.\u001b[0m\u001b[0mth\u001b[0m\u001b[0;34m.\u001b[0m\u001b[0mget_text\u001b[0m\u001b[0;34m(\u001b[0m\u001b[0;34m)\u001b[0m\u001b[0;34m\u001b[0m\u001b[0m\n\u001b[1;32m      3\u001b[0m     \u001b[0;32mif\u001b[0m \u001b[0mtemp\u001b[0m\u001b[0;34m.\u001b[0m\u001b[0mreplace\u001b[0m\u001b[0;34m(\u001b[0m\u001b[0;34m'\\n'\u001b[0m\u001b[0;34m,\u001b[0m \u001b[0;34m''\u001b[0m\u001b[0;34m)\u001b[0m \u001b[0;34m==\u001b[0m \u001b[0;34m'자료유형'\u001b[0m\u001b[0;34m:\u001b[0m\u001b[0;34m\u001b[0m\u001b[0m\n\u001b[1;32m      4\u001b[0m         \u001b[0minfo\u001b[0m\u001b[0;34m[\u001b[0m\u001b[0;34m'datatype'\u001b[0m\u001b[0;34m]\u001b[0m \u001b[0;34m=\u001b[0m \u001b[0mthtd\u001b[0m\u001b[0;34m.\u001b[0m\u001b[0mtd\u001b[0m\u001b[0;34m.\u001b[0m\u001b[0mget_text\u001b[0m\u001b[0;34m(\u001b[0m\u001b[0;34m)\u001b[0m\u001b[0;34m.\u001b[0m\u001b[0mreplace\u001b[0m\u001b[0;34m(\u001b[0m\u001b[0;34m'\\n'\u001b[0m\u001b[0;34m,\u001b[0m \u001b[0;34m''\u001b[0m\u001b[0;34m)\u001b[0m\u001b[0;34m\u001b[0m\u001b[0m\n\u001b[1;32m      5\u001b[0m     \u001b[0;32melif\u001b[0m \u001b[0mtemp\u001b[0m\u001b[0;34m.\u001b[0m\u001b[0mreplace\u001b[0m\u001b[0;34m(\u001b[0m\u001b[0;34m'\\n'\u001b[0m\u001b[0;34m,\u001b[0m \u001b[0;34m''\u001b[0m\u001b[0;34m)\u001b[0m \u001b[0;34m==\u001b[0m \u001b[0;34m'서명/저자사항'\u001b[0m\u001b[0;34m:\u001b[0m\u001b[0;34m\u001b[0m\u001b[0m\n",
      "\u001b[0;31mAttributeError\u001b[0m: 'NoneType' object has no attribute 'find_all'"
     ]
    }
   ],
   "source": [
    "for thtd in table.find_all(\"tr\"):\n",
    "    temp = thtd.th.get_text()\n",
    "    if temp.replace('\\n', '') == '자료유형':\n",
    "        info['datatype'] = thtd.td.get_text().replace('\\n', '')\n",
    "    elif temp.replace('\\n', '') == '서명/저자사항':\n",
    "        info['signature'] = thtd.td.get_text().replace('\\n', '')\n",
    "    elif temp.replace('\\n', '') == '개인저자':\n",
    "        info['personal_author'] = thtd.td.get_text().replace('\\n', '')\n",
    "    elif temp.replace('\\n', '') == '발행사항':\n",
    "        info['publication_type'] = thtd.td.get_text().replace('\\n', '')\n",
    "    elif temp.replace('\\n', '') == '형태사항':\n",
    "        info['form_type'] = thtd.td.get_text().replace('\\n', '')\n",
    "    elif temp.replace('\\n', '') == '원서명':\n",
    "        info['original_title'] = thtd.td.get_text().replace('\\n', '')\n",
    "    elif temp.replace('\\n', '') == 'ISBN':\n",
    "        info['ISBN'] = thtd.td.get_text().replace('\\n', '')\n",
    "    elif temp.replace('\\n', '') == '일반주기':\n",
    "        info['general_note'] = thtd.td.get_text().replace('\\n', '')\n",
    "    elif temp.replace('\\n', '') == '서지주기':\n",
    "        info['book_note'] = thtd.td.get_text().replace('\\n', '')\n",
    "    elif temp.replace('\\n', '') == '일반주제명':\n",
    "        info['general_subject'] = thtd.td.get_text().replace('\\n', '')\n",
    "    elif temp.replace('\\n', '') == '분류기호':\n",
    "        info['class_sign'] = thtd.td.get_text().replace('\\n', '')\n",
    "    elif temp.replace('\\n', '') == '언어':\n",
    "        info['language'] = thtd.td.get_text().replace('\\n', '')"
   ]
  },
  {
   "cell_type": "code",
   "execution_count": 129,
   "metadata": {},
   "outputs": [],
   "source": [
    "collect_info = dict()"
   ]
  },
  {
   "cell_type": "code",
   "execution_count": 127,
   "metadata": {
    "scrolled": true
   },
   "outputs": [
    {
     "name": "stdout",
     "output_type": "stream",
     "text": [
      "<tr class=\"first\">\n",
      "<td class=\"num expand footable-first-column\">1</td>\n",
      "<td class=\"accessionNo\">534762</td>\n",
      "<td class=\"callNum\">813.7 조1928</td>\n",
      "<td class=\"location\">\n",
      "\t\t\t                    \n",
      "\t\t\t                        \n",
      "\t\t\t                        \n",
      "\t\t\t                        중앙도서관/동양서 제2자료실(6층)/\n",
      "\t\t\t                    \n",
      "\t                        </td>\n",
      "<td>\n",
      "<span class=\"status ing\">대출중</span>\n",
      "</td>\n",
      "<td class=\"returnDate\">2018-12-27</td>\n",
      "<td>\n",
      "</td>\n",
      "<td class=\"service\">\n",
      "<div class=\"serviceInfo\">\n",
      "</div>\n",
      "</td>\n",
      "<td class=\"info footable-last-column\">\n",
      "<div class=\"serviceInfo\">\n",
      "</div>\n",
      "</td>\n",
      "</tr>\n",
      "<tr>\n",
      "<td class=\"num expand footable-first-column\">2</td>\n",
      "<td class=\"accessionNo\">534763</td>\n",
      "<td class=\"callNum\">813.7 조1928 C.2</td>\n",
      "<td class=\"location\">\n",
      "\t\t\t                    \n",
      "\t\t\t                        \n",
      "\t\t\t                        \n",
      "\t\t\t                        중앙도서관/동양서 제2자료실(6층)/\n",
      "\t\t\t                    \n",
      "\t                        </td>\n",
      "<td>\n",
      "<span class=\"status available\">대출가능</span>\n",
      "</td>\n",
      "<td class=\"returnDate\"></td>\n",
      "<td>\n",
      "</td>\n",
      "<td class=\"service\">\n",
      "<div class=\"serviceInfo\">\n",
      "<a class=\"service\" href=\"/missrepo/write?accession_no=000000534763\"><img alt=\"서가에 없는 책 신청\" height=\"16\" src=\"/image/ko/solution/common/ico/missrepo.gif\" title=\"서가에 없는 책 신청\" width=\"16\"/></a>\n",
      "</div>\n",
      "</td>\n",
      "<td class=\"info footable-last-column\">\n",
      "<div class=\"serviceInfo\">\n",
      "</div>\n",
      "</td>\n",
      "</tr>\n",
      "<tr>\n",
      "<td class=\"num expand footable-first-column\">3</td>\n",
      "<td class=\"accessionNo\">540279</td>\n",
      "<td class=\"callNum\">813.7 조1928 C.3</td>\n",
      "<td class=\"location\">\n",
      "\t\t\t                    \n",
      "\t\t\t                        \n",
      "\t\t\t                        \n",
      "\t\t\t                        중앙도서관/동양서 제2자료실(6층)/\n",
      "\t\t\t                    \n",
      "\t                        </td>\n",
      "<td>\n",
      "<span class=\"status available\">대출가능</span>\n",
      "</td>\n",
      "<td class=\"returnDate\"></td>\n",
      "<td>\n",
      "</td>\n",
      "<td class=\"service\">\n",
      "<div class=\"serviceInfo\">\n",
      "<a class=\"service\" href=\"/missrepo/write?accession_no=000000540279\"><img alt=\"서가에 없는 책 신청\" height=\"16\" src=\"/image/ko/solution/common/ico/missrepo.gif\" title=\"서가에 없는 책 신청\" width=\"16\"/></a>\n",
      "</div>\n",
      "</td>\n",
      "<td class=\"info footable-last-column\">\n",
      "<div class=\"serviceInfo\">\n",
      "</div>\n",
      "</td>\n",
      "</tr>\n"
     ]
    }
   ],
   "source": [
    "collect_table = soup.select_one('#divContent > div > div:nth-child(6) > div.searchContents > div > table > tbody')\n",
    "collect_table.find_all(\"tr\")\n",
    "for tr in collect_table.find_all(\"tr\"):\n",
    "    print(tr)\n",
    "    if driver.find_element_by_class_name(\"footable-first-column\"):\n",
    "        collect_info['NO'] += tr.td.get_text()"
   ]
  },
  {
   "cell_type": "markdown",
   "metadata": {},
   "source": [
    "## 책검색해서 그 페이지에서 책 정보 가져오기(정적) -> (동적으로 고치기)"
   ]
  },
  {
   "cell_type": "code",
   "execution_count": 34,
   "metadata": {
    "scrolled": false
   },
   "outputs": [
    {
     "ename": "NoSuchElementException",
     "evalue": "Message: no such element: Unable to locate element: {\"method\":\"xpath\",\"selector\":\"//*[@id=\"item_CATTOT000000011364\"]/dl/dd[11]/div/p/a\"}\n  (Session info: chrome=71.0.3578.98)\n  (Driver info: chromedriver=2.45.615355 (d5698f682d8b2742017df6c81e0bd8e6a3063189),platform=Mac OS X 10.13.6 x86_64)\n",
     "output_type": "error",
     "traceback": [
      "\u001b[0;31m---------------------------------------------------------------------------\u001b[0m",
      "\u001b[0;31mNoSuchElementException\u001b[0m                    Traceback (most recent call last)",
      "\u001b[0;32m<ipython-input-34-893ced6fd216>\u001b[0m in \u001b[0;36m<module>\u001b[0;34m\u001b[0m\n\u001b[1;32m      4\u001b[0m \u001b[0melem\u001b[0m\u001b[0;34m.\u001b[0m\u001b[0msend_keys\u001b[0m\u001b[0;34m(\u001b[0m\u001b[0;34m'정의란 무엇인가'\u001b[0m\u001b[0;34m)\u001b[0m\u001b[0;34m\u001b[0m\u001b[0m\n\u001b[1;32m      5\u001b[0m \u001b[0melem\u001b[0m\u001b[0;34m.\u001b[0m\u001b[0msend_keys\u001b[0m\u001b[0;34m(\u001b[0m\u001b[0mKeys\u001b[0m\u001b[0;34m.\u001b[0m\u001b[0mRETURN\u001b[0m\u001b[0;34m)\u001b[0m\u001b[0;34m\u001b[0m\u001b[0m\n\u001b[0;32m----> 6\u001b[0;31m \u001b[0mdriver\u001b[0m\u001b[0;34m.\u001b[0m\u001b[0mfind_element_by_xpath\u001b[0m\u001b[0;34m(\u001b[0m\u001b[0;34m'//*[@id=\"item_CATTOT000000011364\"]/dl/dd[11]/div/p/a'\u001b[0m\u001b[0;34m)\u001b[0m\u001b[0;34m.\u001b[0m\u001b[0mclick\u001b[0m\u001b[0;34m(\u001b[0m\u001b[0;34m)\u001b[0m\u001b[0;34m\u001b[0m\u001b[0m\n\u001b[0m\u001b[1;32m      7\u001b[0m \u001b[0;31m# html = driver.page_source\u001b[0m\u001b[0;34m\u001b[0m\u001b[0;34m\u001b[0m\u001b[0m\n\u001b[1;32m      8\u001b[0m \u001b[0;31m# soup = BeautifulSoup(html, 'html.parser')\u001b[0m\u001b[0;34m\u001b[0m\u001b[0;34m\u001b[0m\u001b[0m\n",
      "\u001b[0;32m/usr/local/var/pyenv/versions/3.6.6/envs/kakao/lib/python3.6/site-packages/selenium/webdriver/remote/webdriver.py\u001b[0m in \u001b[0;36mfind_element_by_xpath\u001b[0;34m(self, xpath)\u001b[0m\n\u001b[1;32m    392\u001b[0m             \u001b[0melement\u001b[0m \u001b[0;34m=\u001b[0m \u001b[0mdriver\u001b[0m\u001b[0;34m.\u001b[0m\u001b[0mfind_element_by_xpath\u001b[0m\u001b[0;34m(\u001b[0m\u001b[0;34m'//div/td[1]'\u001b[0m\u001b[0;34m)\u001b[0m\u001b[0;34m\u001b[0m\u001b[0m\n\u001b[1;32m    393\u001b[0m         \"\"\"\n\u001b[0;32m--> 394\u001b[0;31m         \u001b[0;32mreturn\u001b[0m \u001b[0mself\u001b[0m\u001b[0;34m.\u001b[0m\u001b[0mfind_element\u001b[0m\u001b[0;34m(\u001b[0m\u001b[0mby\u001b[0m\u001b[0;34m=\u001b[0m\u001b[0mBy\u001b[0m\u001b[0;34m.\u001b[0m\u001b[0mXPATH\u001b[0m\u001b[0;34m,\u001b[0m \u001b[0mvalue\u001b[0m\u001b[0;34m=\u001b[0m\u001b[0mxpath\u001b[0m\u001b[0;34m)\u001b[0m\u001b[0;34m\u001b[0m\u001b[0m\n\u001b[0m\u001b[1;32m    395\u001b[0m \u001b[0;34m\u001b[0m\u001b[0m\n\u001b[1;32m    396\u001b[0m     \u001b[0;32mdef\u001b[0m \u001b[0mfind_elements_by_xpath\u001b[0m\u001b[0;34m(\u001b[0m\u001b[0mself\u001b[0m\u001b[0;34m,\u001b[0m \u001b[0mxpath\u001b[0m\u001b[0;34m)\u001b[0m\u001b[0;34m:\u001b[0m\u001b[0;34m\u001b[0m\u001b[0m\n",
      "\u001b[0;32m/usr/local/var/pyenv/versions/3.6.6/envs/kakao/lib/python3.6/site-packages/selenium/webdriver/remote/webdriver.py\u001b[0m in \u001b[0;36mfind_element\u001b[0;34m(self, by, value)\u001b[0m\n\u001b[1;32m    976\u001b[0m         return self.execute(Command.FIND_ELEMENT, {\n\u001b[1;32m    977\u001b[0m             \u001b[0;34m'using'\u001b[0m\u001b[0;34m:\u001b[0m \u001b[0mby\u001b[0m\u001b[0;34m,\u001b[0m\u001b[0;34m\u001b[0m\u001b[0m\n\u001b[0;32m--> 978\u001b[0;31m             'value': value})['value']\n\u001b[0m\u001b[1;32m    979\u001b[0m \u001b[0;34m\u001b[0m\u001b[0m\n\u001b[1;32m    980\u001b[0m     \u001b[0;32mdef\u001b[0m \u001b[0mfind_elements\u001b[0m\u001b[0;34m(\u001b[0m\u001b[0mself\u001b[0m\u001b[0;34m,\u001b[0m \u001b[0mby\u001b[0m\u001b[0;34m=\u001b[0m\u001b[0mBy\u001b[0m\u001b[0;34m.\u001b[0m\u001b[0mID\u001b[0m\u001b[0;34m,\u001b[0m \u001b[0mvalue\u001b[0m\u001b[0;34m=\u001b[0m\u001b[0;32mNone\u001b[0m\u001b[0;34m)\u001b[0m\u001b[0;34m:\u001b[0m\u001b[0;34m\u001b[0m\u001b[0m\n",
      "\u001b[0;32m/usr/local/var/pyenv/versions/3.6.6/envs/kakao/lib/python3.6/site-packages/selenium/webdriver/remote/webdriver.py\u001b[0m in \u001b[0;36mexecute\u001b[0;34m(self, driver_command, params)\u001b[0m\n\u001b[1;32m    319\u001b[0m         \u001b[0mresponse\u001b[0m \u001b[0;34m=\u001b[0m \u001b[0mself\u001b[0m\u001b[0;34m.\u001b[0m\u001b[0mcommand_executor\u001b[0m\u001b[0;34m.\u001b[0m\u001b[0mexecute\u001b[0m\u001b[0;34m(\u001b[0m\u001b[0mdriver_command\u001b[0m\u001b[0;34m,\u001b[0m \u001b[0mparams\u001b[0m\u001b[0;34m)\u001b[0m\u001b[0;34m\u001b[0m\u001b[0m\n\u001b[1;32m    320\u001b[0m         \u001b[0;32mif\u001b[0m \u001b[0mresponse\u001b[0m\u001b[0;34m:\u001b[0m\u001b[0;34m\u001b[0m\u001b[0m\n\u001b[0;32m--> 321\u001b[0;31m             \u001b[0mself\u001b[0m\u001b[0;34m.\u001b[0m\u001b[0merror_handler\u001b[0m\u001b[0;34m.\u001b[0m\u001b[0mcheck_response\u001b[0m\u001b[0;34m(\u001b[0m\u001b[0mresponse\u001b[0m\u001b[0;34m)\u001b[0m\u001b[0;34m\u001b[0m\u001b[0m\n\u001b[0m\u001b[1;32m    322\u001b[0m             response['value'] = self._unwrap_value(\n\u001b[1;32m    323\u001b[0m                 response.get('value', None))\n",
      "\u001b[0;32m/usr/local/var/pyenv/versions/3.6.6/envs/kakao/lib/python3.6/site-packages/selenium/webdriver/remote/errorhandler.py\u001b[0m in \u001b[0;36mcheck_response\u001b[0;34m(self, response)\u001b[0m\n\u001b[1;32m    240\u001b[0m                 \u001b[0malert_text\u001b[0m \u001b[0;34m=\u001b[0m \u001b[0mvalue\u001b[0m\u001b[0;34m[\u001b[0m\u001b[0;34m'alert'\u001b[0m\u001b[0;34m]\u001b[0m\u001b[0;34m.\u001b[0m\u001b[0mget\u001b[0m\u001b[0;34m(\u001b[0m\u001b[0;34m'text'\u001b[0m\u001b[0;34m)\u001b[0m\u001b[0;34m\u001b[0m\u001b[0m\n\u001b[1;32m    241\u001b[0m             \u001b[0;32mraise\u001b[0m \u001b[0mexception_class\u001b[0m\u001b[0;34m(\u001b[0m\u001b[0mmessage\u001b[0m\u001b[0;34m,\u001b[0m \u001b[0mscreen\u001b[0m\u001b[0;34m,\u001b[0m \u001b[0mstacktrace\u001b[0m\u001b[0;34m,\u001b[0m \u001b[0malert_text\u001b[0m\u001b[0;34m)\u001b[0m\u001b[0;34m\u001b[0m\u001b[0m\n\u001b[0;32m--> 242\u001b[0;31m         \u001b[0;32mraise\u001b[0m \u001b[0mexception_class\u001b[0m\u001b[0;34m(\u001b[0m\u001b[0mmessage\u001b[0m\u001b[0;34m,\u001b[0m \u001b[0mscreen\u001b[0m\u001b[0;34m,\u001b[0m \u001b[0mstacktrace\u001b[0m\u001b[0;34m)\u001b[0m\u001b[0;34m\u001b[0m\u001b[0m\n\u001b[0m\u001b[1;32m    243\u001b[0m \u001b[0;34m\u001b[0m\u001b[0m\n\u001b[1;32m    244\u001b[0m     \u001b[0;32mdef\u001b[0m \u001b[0m_value_or_default\u001b[0m\u001b[0;34m(\u001b[0m\u001b[0mself\u001b[0m\u001b[0;34m,\u001b[0m \u001b[0mobj\u001b[0m\u001b[0;34m,\u001b[0m \u001b[0mkey\u001b[0m\u001b[0;34m,\u001b[0m \u001b[0mdefault\u001b[0m\u001b[0;34m)\u001b[0m\u001b[0;34m:\u001b[0m\u001b[0;34m\u001b[0m\u001b[0m\n",
      "\u001b[0;31mNoSuchElementException\u001b[0m: Message: no such element: Unable to locate element: {\"method\":\"xpath\",\"selector\":\"//*[@id=\"item_CATTOT000000011364\"]/dl/dd[11]/div/p/a\"}\n  (Session info: chrome=71.0.3578.98)\n  (Driver info: chromedriver=2.45.615355 (d5698f682d8b2742017df6c81e0bd8e6a3063189),platform=Mac OS X 10.13.6 x86_64)\n"
     ]
    }
   ],
   "source": [
    "driver = webdriver.Chrome(chromedriver_dir)\n",
    "driver.get('https://nsulib.nsu.ac.kr/')\n",
    "elem = driver.find_element_by_name(\"q\")  # 학교 홈페이지 검색창\n",
    "elem.send_keys('정의란 무엇인가')\n",
    "elem.send_keys(Keys.RETURN)\n",
    "driver.find_element_by_xpath('//*[@id=\"item_CATTOT000000011364\"]/dl/dd[11]/div/p/a').click()\n",
    "# html = driver.page_source\n",
    "# soup = BeautifulSoup(html, 'html.parser')\n",
    "time.sleep(1)\n",
    "elem = driver.find_element_by_xpath('//*[@id=\"holdingW_CAT000000011364_1\"]/div[2]')\n",
    "html = elem.get_attribute('innerHTML')\n",
    "soup = BeautifulSoup(html, 'html.parser')\n",
    "tbody = soup.find('tbody')\n",
    "book_info = []\n",
    "for tr in tbody.find_all('tr'):\n",
    "    book_tmp = dict()\n",
    "    book_tmp['no'] = tr.select_one('.footable-first-column').get_text()\n",
    "    book_tmp['location'] = tr.select_one('.location').get_text()\n",
    "    book_tmp['serial_num'] = tr.select_one('.callNum').get_text()\n",
    "    book_tmp['status'] = tr.select_one('.status').get_text()\n",
    "    book_tmp['returnDate'] = tr.select_one('.returnDate').get_text()\n",
    "    book_info.append(book_tmp)\n",
    "book_info"
   ]
  },
  {
   "cell_type": "markdown",
   "metadata": {},
   "source": [
    "## 책 검색 후 여러권을 선택하고나서 책 정보들을 가져오기"
   ]
  },
  {
   "cell_type": "code",
   "execution_count": 35,
   "metadata": {},
   "outputs": [
    {
     "ename": "AttributeError",
     "evalue": "'NoneType' object has no attribute 'select'",
     "output_type": "error",
     "traceback": [
      "\u001b[0;31m---------------------------------------------------------------------------\u001b[0m",
      "\u001b[0;31mAttributeError\u001b[0m                            Traceback (most recent call last)",
      "\u001b[0;32m<ipython-input-35-98ad19da6324>\u001b[0m in \u001b[0;36m<module>\u001b[0;34m\u001b[0m\n\u001b[1;32m     12\u001b[0m \u001b[0mul\u001b[0m \u001b[0;34m=\u001b[0m \u001b[0msoup\u001b[0m\u001b[0;34m.\u001b[0m\u001b[0mselect_one\u001b[0m\u001b[0;34m(\u001b[0m\u001b[0;34m'.resultList'\u001b[0m\u001b[0;34m)\u001b[0m\u001b[0;34m\u001b[0m\u001b[0m\n\u001b[1;32m     13\u001b[0m \u001b[0mbook_info\u001b[0m \u001b[0;34m=\u001b[0m \u001b[0;34m[\u001b[0m\u001b[0;34m]\u001b[0m\u001b[0;34m\u001b[0m\u001b[0m\n\u001b[0;32m---> 14\u001b[0;31m \u001b[0;32mfor\u001b[0m \u001b[0mli\u001b[0m \u001b[0;32min\u001b[0m \u001b[0mul\u001b[0m\u001b[0;34m.\u001b[0m\u001b[0mselect\u001b[0m\u001b[0;34m(\u001b[0m\u001b[0;34m'.items'\u001b[0m\u001b[0;34m)\u001b[0m\u001b[0;34m:\u001b[0m\u001b[0;34m\u001b[0m\u001b[0m\n\u001b[0m\u001b[1;32m     15\u001b[0m     \u001b[0mbook_one\u001b[0m \u001b[0;34m=\u001b[0m \u001b[0mdict\u001b[0m\u001b[0;34m(\u001b[0m\u001b[0;34m)\u001b[0m\u001b[0;34m\u001b[0m\u001b[0m\n\u001b[1;32m     16\u001b[0m     \u001b[0mbook_one\u001b[0m\u001b[0;34m[\u001b[0m\u001b[0;34m'title'\u001b[0m\u001b[0;34m]\u001b[0m \u001b[0;34m=\u001b[0m \u001b[0mli\u001b[0m\u001b[0;34m.\u001b[0m\u001b[0mselect_one\u001b[0m\u001b[0;34m(\u001b[0m\u001b[0;34m'dd.title > a'\u001b[0m\u001b[0;34m)\u001b[0m\u001b[0;34m.\u001b[0m\u001b[0mget_text\u001b[0m\u001b[0;34m(\u001b[0m\u001b[0;34m)\u001b[0m\u001b[0;34m\u001b[0m\u001b[0m\n",
      "\u001b[0;31mAttributeError\u001b[0m: 'NoneType' object has no attribute 'select'"
     ]
    }
   ],
   "source": [
    "driver = webdriver.Chrome(chromedriver_dir)\n",
    "driver.get('https://nsulib.nsu.ac.kr/')\n",
    "elem = driver.find_element_by_id('type1q')  # 학교 홈페이지 검색창\n",
    "elem.send_keys('정의란 무엇인가')  # 이 부분에 검색하고 싶은 도서 이름을 넣어주면 된다\n",
    "elem.send_keys(Keys.RETURN)\n",
    "a_tag = driver.find_elements_by_xpath('//a[contains(@href,\"#previewLocation\")]')\n",
    "for a in a_tag[:3+1]:\n",
    "    a.click()\n",
    "time.sleep(1)\n",
    "html = driver.page_source\n",
    "soup = BeautifulSoup(html, 'html.parser')\n",
    "ul = soup.select_one('.resultList')\n",
    "book_info = []\n",
    "for li in ul.select('.items'):\n",
    "    book_one = dict()\n",
    "    book_one['title'] = li.select_one('dd.title > a').get_text()\n",
    "    book_one['author'] = li.select('dd.info')[0].get_text()\n",
    "    book_one['publisher'] = li.select('dd.info')[1].get_text()\n",
    "    book_one['publish_year'] = li.select('dd.info')[2].get_text()\n",
    "    book_info.append(book_one)\n",
    "    tbody = soup.find('tbody')\n",
    "    for tr in tbody.find_all('tr'):\n",
    "        book_tmp = dict()\n",
    "        no = tr.select_one('.footable-first-column').get_text()\n",
    "        book_tmp['no'] = tr.select_one('.footable-first-column').get_text()\n",
    "        book_tmp['location'] = tr.select_one('.location').get_text()\n",
    "        book_tmp['serial_num'] = tr.select_one('.callNum').get_text()\n",
    "        book_tmp['status'] = tr.select_one('.status').get_text()\n",
    "        book_tmp['returnDate'] = tr.select_one('.returnDate').get_text()\n",
    "        book_one[f'{no}'] = book_tmp\n",
    "    print(book_one)"
   ]
  },
  {
   "cell_type": "code",
   "execution_count": 36,
   "metadata": {},
   "outputs": [
    {
     "data": {
      "text/plain": [
       "{'title': '전산회계 2급',\n",
       " 'author': '김진호',\n",
       " 'publisher': '다음',\n",
       " 'publish_year': '2004',\n",
       " '1': {'no': '1',\n",
       "  'location': '중앙도서관/동양서 제1자료실(5층)/',\n",
       "  'serial_num': '325.9 임73ㅈ',\n",
       "  'status': '대출가능',\n",
       "  'returnDate': ''},\n",
       " '2': {'no': '2',\n",
       "  'location': '중앙도서관/동양서 제1자료실(5층)/',\n",
       "  'serial_num': '325.9 임73ㅈ C.2',\n",
       "  'status': '대출가능',\n",
       "  'returnDate': ''}}"
      ]
     },
     "execution_count": 36,
     "metadata": {},
     "output_type": "execute_result"
    }
   ],
   "source": [
    "book_one"
   ]
  },
  {
   "cell_type": "code",
   "execution_count": 37,
   "metadata": {},
   "outputs": [
    {
     "ename": "IndentationError",
     "evalue": "expected an indented block (<ipython-input-37-c71496e1a367>, line 23)",
     "output_type": "error",
     "traceback": [
      "\u001b[0;36m  File \u001b[0;32m\"<ipython-input-37-c71496e1a367>\"\u001b[0;36m, line \u001b[0;32m23\u001b[0m\n\u001b[0;31m    print(book_one)\u001b[0m\n\u001b[0m        ^\u001b[0m\n\u001b[0;31mIndentationError\u001b[0m\u001b[0;31m:\u001b[0m expected an indented block\n"
     ]
    }
   ],
   "source": [
    "ul = soup.select_one('.resultList')\n",
    "book_info = []\n",
    "for li in ul.select('.items'):\n",
    "    book_one = dict()\n",
    "    book_one['title'] = li.select_one('dd.title > a').get_text()\n",
    "    book_one['author'] = li.select('dd.info')[0].get_text()\n",
    "    book_one['publisher'] = li.select('dd.info')[1].get_text()\n",
    "    book_one['publish_year'] = li.select('dd.info')[2].get_text()\n",
    "    book_info.append(book_one)\n",
    "    tbody = soup.find('tbody')\n",
    "    if tbody is not None:\n",
    "        for tr in tbody.find_all('tr'):\n",
    "            book_tmp = dict()\n",
    "            no = tr.select_one('.footable-first-column').get_text()\n",
    "            book_tmp['no'] = tr.select_one('.footable-first-column').get_text()\n",
    "            book_tmp['location'] = tr.select_one('.location').get_text()\n",
    "            book_tmp['serial_num'] = tr.select_one('.callNum').get_text()\n",
    "            book_tmp['status'] = tr.select_one('.status').get_text()\n",
    "            book_tmp['returnDate'] = tr.select_one('.returnDate').get_text()\n",
    "            book_one[f'{no}'] = book_tmp\n",
    "    else:\n",
    "        \n",
    "    print(book_one)\n",
    "#     if \n",
    "#     print(li)\n",
    "#     print('------------------')"
   ]
  },
  {
   "cell_type": "code",
   "execution_count": 14,
   "metadata": {},
   "outputs": [],
   "source": [
    "soup.select_one('mobileTable')"
   ]
  },
  {
   "cell_type": "markdown",
   "metadata": {},
   "source": [
    "### dict 자료구조가 익숙하지 않아서 예제를 만들어보면서 구조를 공부함"
   ]
  },
  {
   "cell_type": "code",
   "execution_count": 118,
   "metadata": {},
   "outputs": [],
   "source": [
    "book1 = {'no': '1', 'location': '중앙도서관', 'date': '2019-01-22'}\n",
    "book2 = {'no': '2', 'location': '중앙도서관', 'date': ''}"
   ]
  },
  {
   "cell_type": "code",
   "execution_count": 125,
   "metadata": {
    "scrolled": true
   },
   "outputs": [
    {
     "data": {
      "text/plain": [
       "{'no': '1',\n",
       " 'location': '중앙도서관',\n",
       " 'date': '2019-01-22',\n",
       " 'no1': {'no': '2', 'location': '중앙도서관', 'date': ''}}"
      ]
     },
     "execution_count": 125,
     "metadata": {},
     "output_type": "execute_result"
    }
   ],
   "source": [
    "book1['no1'] = book2\n",
    "book1"
   ]
  },
  {
   "cell_type": "code",
   "execution_count": null,
   "metadata": {},
   "outputs": [],
   "source": [
    "first_dict = dict()\n",
    "second_dict = dict()"
   ]
  },
  {
   "cell_type": "code",
   "execution_count": null,
   "metadata": {},
   "outputs": [],
   "source": [
    "second_dict = {'1' : 'first',\n",
    "              '2': 'second'}"
   ]
  },
  {
   "cell_type": "code",
   "execution_count": 46,
   "metadata": {},
   "outputs": [],
   "source": [
    "first_dict= second_dict, third_dict"
   ]
  },
  {
   "cell_type": "code",
   "execution_count": 49,
   "metadata": {},
   "outputs": [
    {
     "name": "stdout",
     "output_type": "stream",
     "text": [
      "{'1': 'first', '2': 'second'}\n",
      "{'3': 'three', '4': 'four'}\n"
     ]
    }
   ],
   "source": [
    "for i in first_dict:\n",
    "    print(i)"
   ]
  },
  {
   "cell_type": "code",
   "execution_count": 45,
   "metadata": {},
   "outputs": [],
   "source": [
    "third_dict = {'3': 'three',\n",
    "             '4': 'four'}"
   ]
  },
  {
   "cell_type": "code",
   "execution_count": 42,
   "metadata": {},
   "outputs": [],
   "source": [
    "book_title = dict()\n",
    "book_reservation = dict()\n",
    "book_reservation = {'1': '123', '2': '123333333123', '3': '234'}\n",
    "\n"
   ]
  },
  {
   "cell_type": "code",
   "execution_count": 60,
   "metadata": {},
   "outputs": [],
   "source": [
    "book_info = {'datatype': '단행본',\n",
    " 'signature': '82년생 김지영: 조남주 장편소설 / 조남주 [지음].',\n",
    " 'personal_author': '조남주, 저',\n",
    " 'publication_type': '서울 : 민음사, 2016.',\n",
    " 'form_type': '190 p. ; 20cm.',\n",
    " 'ISBN': '9788937473005(세트)9788937473135',\n",
    " 'class_sign': '813.7 ',\n",
    " 'language': '한국어',\n",
    "            1 : {\n",
    "                'reservation': '예약가능'\n",
    "            },\n",
    "             2 : {\n",
    "                 'reservation': '예약불가'\n",
    "             }\n",
    "}"
   ]
  },
  {
   "cell_type": "code",
   "execution_count": 38,
   "metadata": {},
   "outputs": [
    {
     "data": {
      "text/plain": [
       "[]"
      ]
     },
     "execution_count": 38,
     "metadata": {},
     "output_type": "execute_result"
    }
   ],
   "source": [
    "book_info"
   ]
  },
  {
   "cell_type": "code",
   "execution_count": 56,
   "metadata": {},
   "outputs": [],
   "source": [
    "info = dict\n",
    "book_info = dict\n",
    "book_reservation = dict"
   ]
  },
  {
   "cell_type": "code",
   "execution_count": 77,
   "metadata": {},
   "outputs": [],
   "source": [
    "book_dic = ['첫번째', '두번째', '세번째', '네번째']"
   ]
  },
  {
   "cell_type": "code",
   "execution_count": 79,
   "metadata": {},
   "outputs": [],
   "source": [
    "book_reset = {book_dic[0]: book_dic[1:]}"
   ]
  },
  {
   "cell_type": "code",
   "execution_count": 80,
   "metadata": {},
   "outputs": [
    {
     "data": {
      "text/plain": [
       "{'첫번째': ['두번째', '세번째', '네번째']}"
      ]
     },
     "execution_count": 80,
     "metadata": {},
     "output_type": "execute_result"
    }
   ],
   "source": [
    "book_reset"
   ]
  },
  {
   "cell_type": "markdown",
   "metadata": {},
   "source": [
    "# selenium 사용 안하고 크롤링하기"
   ]
  },
  {
   "cell_type": "markdown",
   "metadata": {},
   "source": [
    "##### li(items)에서 id = '000000278036 '와 같은 숫자 데이터를 뽑아야함, 그럼 detail에서 selenium없이 데이터를 가져올 수 있음"
   ]
  },
  {
   "cell_type": "code",
   "execution_count": 3,
   "metadata": {},
   "outputs": [],
   "source": [
    "search_keyword = '조직행동론'\n",
    "res = requests.get(f'https://nsulib.nsu.ac.kr/search/tot/result?st=KWRD&si=TOTAL&q={search_keyword}&x=0&y=0')\n",
    "html = res.text\n",
    "soup = BeautifulSoup(html, 'html.parser')"
   ]
  },
  {
   "cell_type": "code",
   "execution_count": 4,
   "metadata": {},
   "outputs": [],
   "source": [
    "ul = soup.select_one('.resultList')\n",
    "book_info = []\n",
    "for i in range(0, 2+1):\n",
    "    li = ul.select('.items')[i]\n",
    "    book_one = dict()\n",
    "    book_detail = dict()\n",
    "    book_one['title'] = li.select_one('dd.title > a').get_text()\n",
    "    book_one['author'] = li.select('dd.info')[0].get_text()\n",
    "    book_one['publisher'] = li.select('dd.info')[1].get_text()\n",
    "    book_one['publish_year'] = li.select('dd.info')[2].get_text()\n",
    "    book_info.append(book_one)\n",
    "    test_text = li.get('id')\n",
    "    no = re.search(r'(CAT\\w+\\d+)', test_text).group()\n",
    "    detail_html = requests.get(f'https://nsulib.nsu.ac.kr/search/detail/{no}').text\n",
    "    detail_soup = BeautifulSoup(detail_html, 'html.parser')\n",
    "    div_li = detail_soup.select_one('.listTable > table')\n",
    "    book_detail['no'] = div_li.select_one('td.num').get_text()\n",
    "    book_detail['callNum'] = div_li.select_one('td.callNum').get_text()\n",
    "    book_detail['location'] = div_li.select_one('td.location').get_text(\" \", strip=True)\n",
    "    book_detail['status'] = div_li.select_one('span.status').get_text()\n",
    "    book_one['detail'] = book_detail"
   ]
  },
  {
   "cell_type": "code",
   "execution_count": 5,
   "metadata": {},
   "outputs": [
    {
     "data": {
      "text/plain": [
       "[{'title': '조직행동론',\n",
       "  'author': '김문중',\n",
       "  'publisher': '청목출판사',\n",
       "  'publish_year': '1998',\n",
       "  'detail': {'no': '1',\n",
       "   'callNum': '325.2 김36ㅈ',\n",
       "   'location': '중앙도서관/동양서 제1자료실(5층)/',\n",
       "   'status': '대출가능'}},\n",
       " {'title': '조직행동론',\n",
       "  'author': '유기현',\n",
       "  'publisher': '貿易經營社',\n",
       "  'publish_year': '2003',\n",
       "  'detail': {'no': '1',\n",
       "   'callNum': '325.2 유18ㅈ',\n",
       "   'location': '중앙도서관/동양서 제1자료실(5층)/',\n",
       "   'status': '대출가능'}},\n",
       " {'title': '조직행동론 = Organizational behavior',\n",
       "  'author': '이상수',\n",
       "  'publisher': '형설출판사',\n",
       "  'publish_year': '2004',\n",
       "  'detail': {'no': '1',\n",
       "   'callNum': '325.2 이52조',\n",
       "   'location': '중앙도서관/동양서 제1자료실(5층)/',\n",
       "   'status': '대출가능'}}]"
      ]
     },
     "execution_count": 5,
     "metadata": {},
     "output_type": "execute_result"
    }
   ],
   "source": [
    "book_info"
   ]
  },
  {
   "cell_type": "code",
   "execution_count": 35,
   "metadata": {
    "scrolled": true
   },
   "outputs": [
    {
     "ename": "IndexError",
     "evalue": "list index out of range",
     "output_type": "error",
     "traceback": [
      "\u001b[0;31m---------------------------------------------------------------------------\u001b[0m",
      "\u001b[0;31mIndexError\u001b[0m                                Traceback (most recent call last)",
      "\u001b[0;32m<ipython-input-35-9752972f8b19>\u001b[0m in \u001b[0;36m<module>\u001b[0;34m\u001b[0m\n\u001b[0;32m----> 1\u001b[0;31m \u001b[0mi\u001b[0m \u001b[0;34m=\u001b[0m \u001b[0mli\u001b[0m\u001b[0;34m.\u001b[0m\u001b[0mselect\u001b[0m\u001b[0;34m(\u001b[0m\u001b[0;34m'li.items'\u001b[0m\u001b[0;34m)\u001b[0m\u001b[0;34m[\u001b[0m\u001b[0;36m0\u001b[0m\u001b[0;34m]\u001b[0m\u001b[0;34m\u001b[0m\u001b[0;34m\u001b[0m\u001b[0m\n\u001b[0m",
      "\u001b[0;31mIndexError\u001b[0m: list index out of range"
     ]
    }
   ],
   "source": [
    "i = li.select('li.items')[0]"
   ]
  },
  {
   "cell_type": "code",
   "execution_count": 37,
   "metadata": {},
   "outputs": [],
   "source": [
    "test_text = li.get('id')"
   ]
  },
  {
   "cell_type": "code",
   "execution_count": 40,
   "metadata": {},
   "outputs": [
    {
     "data": {
      "text/plain": [
       "'item_CATTOT000000278036'"
      ]
     },
     "execution_count": 40,
     "metadata": {},
     "output_type": "execute_result"
    }
   ],
   "source": [
    "re.test_text"
   ]
  },
  {
   "cell_type": "code",
   "execution_count": 91,
   "metadata": {},
   "outputs": [],
   "source": [
    "no = re.search(r'(CAT\\w+\\d+)', test_text).group()"
   ]
  },
  {
   "cell_type": "code",
   "execution_count": 92,
   "metadata": {},
   "outputs": [
    {
     "name": "stdout",
     "output_type": "stream",
     "text": [
      "CATTOT000000278036\n"
     ]
    }
   ],
   "source": [
    "print(no)"
   ]
  },
  {
   "cell_type": "code",
   "execution_count": 93,
   "metadata": {},
   "outputs": [],
   "source": [
    "detail_html = requests.get(f'https://nsulib.nsu.ac.kr/search/detail/{no}').text"
   ]
  },
  {
   "cell_type": "code",
   "execution_count": 105,
   "metadata": {},
   "outputs": [],
   "source": [
    "detail_html = requests.get(f'https://nsulib.nsu.ac.kr/search/detail/{no}').text\n",
    "detail_soup = BeautifulSoup(detail_html, 'html.parser')"
   ]
  },
  {
   "cell_type": "code",
   "execution_count": 129,
   "metadata": {},
   "outputs": [],
   "source": [
    "div_li = detail_soup.select_one('.listTable > table')"
   ]
  },
  {
   "cell_type": "code",
   "execution_count": 130,
   "metadata": {},
   "outputs": [
    {
     "data": {
      "text/plain": [
       "'중앙도서관/동양서 제1자료실(5층)/'"
      ]
     },
     "execution_count": 130,
     "metadata": {},
     "output_type": "execute_result"
    }
   ],
   "source": [
    "div_li.select_one('td.location').get_text(\" \", strip=True)"
   ]
  },
  {
   "cell_type": "code",
   "execution_count": 131,
   "metadata": {},
   "outputs": [
    {
     "data": {
      "text/plain": [
       "'대출가능'"
      ]
     },
     "execution_count": 131,
     "metadata": {},
     "output_type": "execute_result"
    }
   ],
   "source": [
    "div_li.select_one('span.status').get_text()"
   ]
  },
  {
   "cell_type": "code",
   "execution_count": 118,
   "metadata": {},
   "outputs": [
    {
     "data": {
      "text/plain": [
       "<table class=\"searchTable\">\n",
       "<caption>메세지가 없습니다</caption>\n",
       "<thead>\n",
       "<tr>\n",
       "<th data-class=\"expand\" scope=\"row\">No.</th>\n",
       "<th data-hide=\"phone\" scope=\"row\">등록번호</th>\n",
       "<th data-hide=\"phone\" scope=\"row\">청구기호</th>\n",
       "<th data-hide=\"expand\" scope=\"row\">소장처</th>\n",
       "<th data-hide=\"expand\" scope=\"row\">도서상태</th>\n",
       "<th data-hide=\"phone\" scope=\"row\">반납예정일</th>\n",
       "<th scope=\"row\">예약</th>\n",
       "<th data-hide=\"phone\" scope=\"row\">서비스</th>\n",
       "<th data-hide=\"phone\" scope=\"row\">매체정보</th>\n",
       "</tr>\n",
       "</thead>\n",
       "<tbody>\n",
       "<tr class=\"first\">\n",
       "<td class=\"num\">1</td>\n",
       "<td class=\"accessionNo\">305972</td>\n",
       "<td class=\"callNum\">325.2 이52조</td>\n",
       "<td class=\"location\">\n",
       "\t\t\t                    \n",
       "\t\t\t                        \n",
       "\t\t\t                        \n",
       "\t\t\t                        중앙도서관/동양서 제1자료실(5층)/\n",
       "\t\t\t                    \n",
       "\t                        </td>\n",
       "<td>\n",
       "<span class=\"status available\">대출가능</span>\n",
       "</td>\n",
       "<td class=\"returnDate\"></td>\n",
       "<td>\n",
       "</td>\n",
       "<td class=\"service\">\n",
       "<div class=\"serviceInfo\">\n",
       "<a class=\"service\" href=\"/missrepo/write?accession_no=000000305972\"><img alt=\"서가에 없는 책 신청\" height=\"16\" src=\"/image/ko/solution/common/ico/missrepo.gif\" title=\"서가에 없는 책 신청\" width=\"16\"/></a>\n",
       "</div>\n",
       "</td>\n",
       "<td class=\"info\">\n",
       "<div class=\"serviceInfo\">\n",
       "</div>\n",
       "</td>\n",
       "</tr>\n",
       "<tr>\n",
       "<td class=\"num\">2</td>\n",
       "<td class=\"accessionNo\">305973</td>\n",
       "<td class=\"callNum\">325.2 이52조 C.2</td>\n",
       "<td class=\"location\">\n",
       "\t\t\t                    \n",
       "\t\t\t                        \n",
       "\t\t\t                        \n",
       "\t\t\t                        중앙도서관/동양서 제1자료실(5층)/\n",
       "\t\t\t                    \n",
       "\t                        </td>\n",
       "<td>\n",
       "<span class=\"status available\">대출가능</span>\n",
       "</td>\n",
       "<td class=\"returnDate\"></td>\n",
       "<td>\n",
       "</td>\n",
       "<td class=\"service\">\n",
       "<div class=\"serviceInfo\">\n",
       "<a class=\"service\" href=\"/missrepo/write?accession_no=000000305973\"><img alt=\"서가에 없는 책 신청\" height=\"16\" src=\"/image/ko/solution/common/ico/missrepo.gif\" title=\"서가에 없는 책 신청\" width=\"16\"/></a>\n",
       "</div>\n",
       "</td>\n",
       "<td class=\"info\">\n",
       "<div class=\"serviceInfo\">\n",
       "</div>\n",
       "</td>\n",
       "</tr>\n",
       "</tbody>\n",
       "</table>"
      ]
     },
     "execution_count": 118,
     "metadata": {},
     "output_type": "execute_result"
    }
   ],
   "source": [
    "div_li"
   ]
  },
  {
   "cell_type": "code",
   "execution_count": null,
   "metadata": {},
   "outputs": [],
   "source": []
  },
  {
   "cell_type": "code",
   "execution_count": null,
   "metadata": {},
   "outputs": [],
   "source": []
  },
  {
   "cell_type": "code",
   "execution_count": null,
   "metadata": {},
   "outputs": [],
   "source": []
  }
 ],
 "metadata": {
  "kernelspec": {
   "display_name": "Python 3",
   "language": "python",
   "name": "python3"
  }
 },
 "nbformat": 4,
 "nbformat_minor": 2
}
