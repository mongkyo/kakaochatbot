{
 "cells": [
  {
   "cell_type": "code",
   "execution_count": 1,
   "metadata": {},
   "outputs": [],
   "source": [
    "from selenium import webdriver\n",
    "from selenium.webdriver.common.keys import Keys\n",
    "from bs4 import BeautifulSoup\n",
    "import requests\n",
    "import lxml\n",
    "import sys\n",
    "import time\n",
    "import re\n",
    "import urllib.request\n"
   ]
  },
  {
   "cell_type": "code",
   "execution_count": 2,
   "metadata": {},
   "outputs": [],
   "source": [
    "chromedriver_dir = '/Users/mongkyo/Projects/kakao-chatbot/crawling/chromedriver'\n",
    "# options = webdriver.ChromeOptions()\n",
    "# options.add_argument('headless')\n",
    "# options.add_argument('window-size=1920x1080')\n",
    "# options.add_argument(\"disable-gpu\")\n",
    "# driver = webdriver.Chrome(chormedriver_dir, chrome_option=options)"
   ]
  },
  {
   "cell_type": "code",
   "execution_count": 141,
   "metadata": {},
   "outputs": [],
   "source": [
    "a = '컴퓨터구조'"
   ]
  },
  {
   "cell_type": "code",
   "execution_count": 20,
   "metadata": {},
   "outputs": [
    {
     "ename": "TypeError",
     "evalue": "object of type 'WebElement' has no len()",
     "output_type": "error",
     "traceback": [
      "\u001b[0;31m---------------------------------------------------------------------------\u001b[0m",
      "\u001b[0;31mTypeError\u001b[0m                                 Traceback (most recent call last)",
      "\u001b[0;32m<ipython-input-20-d0fcbaf71a40>\u001b[0m in \u001b[0;36m<module>\u001b[0;34m\u001b[0m\n\u001b[1;32m      2\u001b[0m \u001b[0mdriver\u001b[0m\u001b[0;34m.\u001b[0m\u001b[0mget\u001b[0m\u001b[0;34m(\u001b[0m\u001b[0;34m'https://nsulib.nsu.ac.kr/'\u001b[0m\u001b[0;34m)\u001b[0m\u001b[0;34m\u001b[0m\u001b[0m\n\u001b[1;32m      3\u001b[0m \u001b[0melem\u001b[0m \u001b[0;34m=\u001b[0m \u001b[0mdriver\u001b[0m\u001b[0;34m.\u001b[0m\u001b[0mfind_element_by_name\u001b[0m\u001b[0;34m(\u001b[0m\u001b[0;34m\"q\"\u001b[0m\u001b[0;34m)\u001b[0m\u001b[0;34m\u001b[0m\u001b[0m\n\u001b[0;32m----> 4\u001b[0;31m \u001b[0melem\u001b[0m\u001b[0;34m.\u001b[0m\u001b[0msend_keys\u001b[0m\u001b[0;34m(\u001b[0m\u001b[0ma\u001b[0m\u001b[0;34m)\u001b[0m\u001b[0;34m\u001b[0m\u001b[0m\n\u001b[0m\u001b[1;32m      5\u001b[0m \u001b[0melem\u001b[0m\u001b[0;34m.\u001b[0m\u001b[0msend_keys\u001b[0m\u001b[0;34m(\u001b[0m\u001b[0mKeys\u001b[0m\u001b[0;34m.\u001b[0m\u001b[0mRETURN\u001b[0m\u001b[0;34m)\u001b[0m\u001b[0;34m\u001b[0m\u001b[0m\n\u001b[1;32m      6\u001b[0m \u001b[0mdriver\u001b[0m\u001b[0;34m.\u001b[0m\u001b[0mfind_element_by_xpath\u001b[0m\u001b[0;34m(\u001b[0m\u001b[0;34m'//*[@id=\"item_CATTOT000000469834\"]/dl/dd[11]/div/p/a'\u001b[0m\u001b[0;34m)\u001b[0m\u001b[0;34m.\u001b[0m\u001b[0mclick\u001b[0m\u001b[0;34m(\u001b[0m\u001b[0;34m)\u001b[0m\u001b[0;34m\u001b[0m\u001b[0m\n",
      "\u001b[0;32m/usr/local/var/pyenv/versions/3.6.6/envs/kakao/lib/python3.6/site-packages/selenium/webdriver/remote/webelement.py\u001b[0m in \u001b[0;36msend_keys\u001b[0;34m(self, *value)\u001b[0m\n\u001b[1;32m    476\u001b[0m \u001b[0;34m\u001b[0m\u001b[0m\n\u001b[1;32m    477\u001b[0m         self._execute(Command.SEND_KEYS_TO_ELEMENT,\n\u001b[0;32m--> 478\u001b[0;31m                       {'text': \"\".join(keys_to_typing(value)),\n\u001b[0m\u001b[1;32m    479\u001b[0m                        'value': keys_to_typing(value)})\n\u001b[1;32m    480\u001b[0m \u001b[0;34m\u001b[0m\u001b[0m\n",
      "\u001b[0;32m/usr/local/var/pyenv/versions/3.6.6/envs/kakao/lib/python3.6/site-packages/selenium/webdriver/common/utils.py\u001b[0m in \u001b[0;36mkeys_to_typing\u001b[0;34m(value)\u001b[0m\n\u001b[1;32m    148\u001b[0m                 \u001b[0mtyping\u001b[0m\u001b[0;34m.\u001b[0m\u001b[0mappend\u001b[0m\u001b[0;34m(\u001b[0m\u001b[0mval\u001b[0m\u001b[0;34m[\u001b[0m\u001b[0mi\u001b[0m\u001b[0;34m]\u001b[0m\u001b[0;34m)\u001b[0m\u001b[0;34m\u001b[0m\u001b[0m\n\u001b[1;32m    149\u001b[0m         \u001b[0;32melse\u001b[0m\u001b[0;34m:\u001b[0m\u001b[0;34m\u001b[0m\u001b[0m\n\u001b[0;32m--> 150\u001b[0;31m             \u001b[0;32mfor\u001b[0m \u001b[0mi\u001b[0m \u001b[0;32min\u001b[0m \u001b[0mrange\u001b[0m\u001b[0;34m(\u001b[0m\u001b[0mlen\u001b[0m\u001b[0;34m(\u001b[0m\u001b[0mval\u001b[0m\u001b[0;34m)\u001b[0m\u001b[0;34m)\u001b[0m\u001b[0;34m:\u001b[0m\u001b[0;34m\u001b[0m\u001b[0m\n\u001b[0m\u001b[1;32m    151\u001b[0m                 \u001b[0mtyping\u001b[0m\u001b[0;34m.\u001b[0m\u001b[0mappend\u001b[0m\u001b[0;34m(\u001b[0m\u001b[0mval\u001b[0m\u001b[0;34m[\u001b[0m\u001b[0mi\u001b[0m\u001b[0;34m]\u001b[0m\u001b[0;34m)\u001b[0m\u001b[0;34m\u001b[0m\u001b[0m\n\u001b[1;32m    152\u001b[0m     \u001b[0;32mreturn\u001b[0m \u001b[0mtyping\u001b[0m\u001b[0;34m\u001b[0m\u001b[0m\n",
      "\u001b[0;31mTypeError\u001b[0m: object of type 'WebElement' has no len()"
     ]
    }
   ],
   "source": [
    "driver = webdriver.Chrome(chromedriver_dir)\n",
    "driver.get('https://nsulib.nsu.ac.kr/')\n",
    "elem = driver.find_element_by_name(\"q\")\n",
    "elem.send_keys(a)\n",
    "elem.send_keys(Keys.RETURN)\n",
    "driver.find_element_by_xpath('//*[@id=\"item_CATTOT000000469834\"]/dl/dd[11]/div/p/a').click()\n",
    "driver.find_element_by_xpath('//*[@id=\"item_CATTOT000000469834\"]/dl/dd[4]/a').click()\n",
    "info = dict()\n",
    "html = driver.page_source\n",
    "soup = BeautifulSoup(html, 'html.parser')"
   ]
  },
  {
   "cell_type": "code",
   "execution_count": null,
   "metadata": {},
   "outputs": [],
   "source": [
    "soup = BeautifulSoup(html, 'html.parser')"
   ]
  },
  {
   "cell_type": "code",
   "execution_count": null,
   "metadata": {},
   "outputs": [],
   "source": [
    "table = soup.find('tbody')\n"
   ]
  },
  {
   "cell_type": "code",
   "execution_count": 114,
   "metadata": {},
   "outputs": [
    {
     "data": {
      "text/plain": [
       "<tbody>\n",
       "<tr><th scope=\"row\">자료유형</th><td>단행본</td></tr><tr><th scope=\"row\">서명/저자사항</th><td>82년생 김지영: 조남주 장편소설 / 조남주 [지음].</td></tr><tr><th scope=\"row\">개인저자</th><td><a href=\"/search/tot/result?st=FRNT&amp;si=2&amp;q=조남주\" title=\"이 키워드로 더 검색하기\">조남주</a>, 저<br/></td></tr><tr><th scope=\"row\">발행사항</th><td>서울 : 민음사, 2016.</td></tr><tr><th scope=\"row\">형태사항</th><td>190 p. ; 20cm.</td></tr><tr><th scope=\"row\">총서사항</th><td><a href=\"/search/tot/result?st=FRNT&amp;si=1&amp;q=오늘의 젊은 작가;\" title=\"이 키워드로 더 검색하기\">오늘의 젊은 작가</a>;13<br/></td></tr><tr><th scope=\"row\">ISBN</th><td>9788937473005(세트)<br/>9788937473135<br/></td></tr><tr><th scope=\"row\">비통제주제어</th><td><a href=\"/search/tot/result?st=FRNT&amp;si=4&amp;q=한국문학\" title=\"이 키워드로 더 검색하기\">한국문학</a>,<a href=\"/search/tot/result?st=FRNT&amp;si=4&amp;q=한국현대소설\" title=\"이 키워드로 더 검색하기\">한국현대소설</a>,<a href=\"/search/tot/result?st=FRNT&amp;si=4&amp;q=장편소설\" title=\"이 키워드로 더 검색하기\">장편소설</a></td></tr><tr><th scope=\"row\">분류기호</th><td><a href=\"/search/tot/result?st=FRNT&amp;si=13&amp;q=813.7\" title=\"이 키워드로 더 검색하기\">813.7</a> <br/></td></tr><tr><th scope=\"row\">언어</th><td>한국어</td></tr>\n",
       "</tbody>"
      ]
     },
     "execution_count": 114,
     "metadata": {},
     "output_type": "execute_result"
    }
   ],
   "source": [
    "table"
   ]
  },
  {
   "cell_type": "code",
   "execution_count": 115,
   "metadata": {},
   "outputs": [],
   "source": [
    "for thtd in table.find_all(\"tr\"):\n",
    "    temp = thtd.th.get_text()\n",
    "    if temp.replace('\\n', '') == '자료유형':\n",
    "        info['datatype'] = thtd.td.get_text().replace('\\n', '')\n",
    "    elif temp.replace('\\n', '') == '서명/저자사항':\n",
    "        info['signature'] = thtd.td.get_text().replace('\\n', '')\n",
    "    elif temp.replace('\\n', '') == '개인저자':\n",
    "        info['personal_author'] = thtd.td.get_text().replace('\\n', '')\n",
    "    elif temp.replace('\\n', '') == '발행사항':\n",
    "        info['publication_type'] = thtd.td.get_text().replace('\\n', '')\n",
    "    elif temp.replace('\\n', '') == '형태사항':\n",
    "        info['form_type'] = thtd.td.get_text().replace('\\n', '')\n",
    "    elif temp.replace('\\n', '') == '원서명':\n",
    "        info['original_title'] = thtd.td.get_text().replace('\\n', '')\n",
    "    elif temp.replace('\\n', '') == 'ISBN':\n",
    "        info['ISBN'] = thtd.td.get_text().replace('\\n', '')\n",
    "    elif temp.replace('\\n', '') == '일반주기':\n",
    "        info['general_note'] = thtd.td.get_text().replace('\\n', '')\n",
    "    elif temp.replace('\\n', '') == '서지주기':\n",
    "        info['book_note'] = thtd.td.get_text().replace('\\n', '')\n",
    "    elif temp.replace('\\n', '') == '일반주제명':\n",
    "        info['general_subject'] = thtd.td.get_text().replace('\\n', '')\n",
    "    elif temp.replace('\\n', '') == '분류기호':\n",
    "        info['class_sign'] = thtd.td.get_text().replace('\\n', '')\n",
    "    elif temp.replace('\\n', '') == '언어':\n",
    "        info['language'] = thtd.td.get_text().replace('\\n', '')"
   ]
  },
  {
   "cell_type": "code",
   "execution_count": 116,
   "metadata": {
    "scrolled": false
   },
   "outputs": [
    {
     "data": {
      "text/plain": [
       "{'datatype': '단행본',\n",
       " 'signature': '82년생 김지영: 조남주 장편소설 / 조남주 [지음].',\n",
       " 'personal_author': '조남주, 저',\n",
       " 'publication_type': '서울 : 민음사, 2016.',\n",
       " 'form_type': '190 p. ; 20cm.',\n",
       " 'ISBN': '9788937473005(세트)9788937473135',\n",
       " 'class_sign': '813.7 ',\n",
       " 'language': '한국어'}"
      ]
     },
     "execution_count": 116,
     "metadata": {},
     "output_type": "execute_result"
    }
   ],
   "source": [
    "info"
   ]
  },
  {
   "cell_type": "code",
   "execution_count": 129,
   "metadata": {},
   "outputs": [],
   "source": [
    "collect_info = dict()"
   ]
  },
  {
   "cell_type": "code",
   "execution_count": 127,
   "metadata": {
    "scrolled": true
   },
   "outputs": [
    {
     "name": "stdout",
     "output_type": "stream",
     "text": [
      "<tr class=\"first\">\n",
      "<td class=\"num expand footable-first-column\">1</td>\n",
      "<td class=\"accessionNo\">534762</td>\n",
      "<td class=\"callNum\">813.7 조1928</td>\n",
      "<td class=\"location\">\n",
      "\t\t\t                    \n",
      "\t\t\t                        \n",
      "\t\t\t                        \n",
      "\t\t\t                        중앙도서관/동양서 제2자료실(6층)/\n",
      "\t\t\t                    \n",
      "\t                        </td>\n",
      "<td>\n",
      "<span class=\"status ing\">대출중</span>\n",
      "</td>\n",
      "<td class=\"returnDate\">2018-12-27</td>\n",
      "<td>\n",
      "</td>\n",
      "<td class=\"service\">\n",
      "<div class=\"serviceInfo\">\n",
      "</div>\n",
      "</td>\n",
      "<td class=\"info footable-last-column\">\n",
      "<div class=\"serviceInfo\">\n",
      "</div>\n",
      "</td>\n",
      "</tr>\n",
      "<tr>\n",
      "<td class=\"num expand footable-first-column\">2</td>\n",
      "<td class=\"accessionNo\">534763</td>\n",
      "<td class=\"callNum\">813.7 조1928 C.2</td>\n",
      "<td class=\"location\">\n",
      "\t\t\t                    \n",
      "\t\t\t                        \n",
      "\t\t\t                        \n",
      "\t\t\t                        중앙도서관/동양서 제2자료실(6층)/\n",
      "\t\t\t                    \n",
      "\t                        </td>\n",
      "<td>\n",
      "<span class=\"status available\">대출가능</span>\n",
      "</td>\n",
      "<td class=\"returnDate\"></td>\n",
      "<td>\n",
      "</td>\n",
      "<td class=\"service\">\n",
      "<div class=\"serviceInfo\">\n",
      "<a class=\"service\" href=\"/missrepo/write?accession_no=000000534763\"><img alt=\"서가에 없는 책 신청\" height=\"16\" src=\"/image/ko/solution/common/ico/missrepo.gif\" title=\"서가에 없는 책 신청\" width=\"16\"/></a>\n",
      "</div>\n",
      "</td>\n",
      "<td class=\"info footable-last-column\">\n",
      "<div class=\"serviceInfo\">\n",
      "</div>\n",
      "</td>\n",
      "</tr>\n",
      "<tr>\n",
      "<td class=\"num expand footable-first-column\">3</td>\n",
      "<td class=\"accessionNo\">540279</td>\n",
      "<td class=\"callNum\">813.7 조1928 C.3</td>\n",
      "<td class=\"location\">\n",
      "\t\t\t                    \n",
      "\t\t\t                        \n",
      "\t\t\t                        \n",
      "\t\t\t                        중앙도서관/동양서 제2자료실(6층)/\n",
      "\t\t\t                    \n",
      "\t                        </td>\n",
      "<td>\n",
      "<span class=\"status available\">대출가능</span>\n",
      "</td>\n",
      "<td class=\"returnDate\"></td>\n",
      "<td>\n",
      "</td>\n",
      "<td class=\"service\">\n",
      "<div class=\"serviceInfo\">\n",
      "<a class=\"service\" href=\"/missrepo/write?accession_no=000000540279\"><img alt=\"서가에 없는 책 신청\" height=\"16\" src=\"/image/ko/solution/common/ico/missrepo.gif\" title=\"서가에 없는 책 신청\" width=\"16\"/></a>\n",
      "</div>\n",
      "</td>\n",
      "<td class=\"info footable-last-column\">\n",
      "<div class=\"serviceInfo\">\n",
      "</div>\n",
      "</td>\n",
      "</tr>\n"
     ]
    }
   ],
   "source": [
    "collect_table = soup.select_one('#divContent > div > div:nth-child(6) > div.searchContents > div > table > tbody')\n",
    "collect_table.find_all(\"tr\")\n",
    "for tr in collect_table.find_all(\"tr\"):\n",
    "    print(tr)\n",
    "    if driver.find_element_by_class_name(\"footable-first-column\"):\n",
    "        collect_info['NO'] += tr.td.get_text()"
   ]
  },
  {
   "cell_type": "markdown",
   "metadata": {},
   "source": [
    "## 책검색해서 그 페이지에서 책 정보 가져오기(정적) -> (동적으로 고치기)"
   ]
  },
  {
   "cell_type": "code",
   "execution_count": 178,
   "metadata": {
    "scrolled": false
   },
   "outputs": [
    {
     "data": {
      "text/plain": [
       "[{'no': '1',\n",
       "  'location': '중앙도서관/동양서 제1자료실(5층)/',\n",
       "  'serial_num': '028.61 김75ㅋ',\n",
       "  'status': '대출가능',\n",
       "  'returnDate': ''},\n",
       " {'no': '2',\n",
       "  'location': '중앙도서관/동양서 제1자료실(5층)/',\n",
       "  'serial_num': '028.61 김75ㅋ C.2',\n",
       "  'status': '대출가능',\n",
       "  'returnDate': ''},\n",
       " {'no': '3',\n",
       "  'location': '중앙도서관/동양서 제1자료실(5층)/',\n",
       "  'serial_num': '028.61 김75ㅋ C.3',\n",
       "  'status': '대출가능',\n",
       "  'returnDate': ''}]"
      ]
     },
     "execution_count": 178,
     "metadata": {},
     "output_type": "execute_result"
    }
   ],
   "source": [
    "driver = webdriver.Chrome(chromedriver_dir)\n",
    "driver.get('https://nsulib.nsu.ac.kr/')\n",
    "elem = driver.find_element_by_name(\"q\")  # 학교 홈페이지 검색창\n",
    "elem.send_keys(a)\n",
    "elem.send_keys(Keys.RETURN)\n",
    "driver.find_element_by_xpath('//*[@id=\"item_CATTOT000000011364\"]/dl/dd[11]/div/p/a').click()\n",
    "# html = driver.page_source\n",
    "# soup = BeautifulSoup(html, 'html.parser')\n",
    "time.sleep(1)\n",
    "elem = driver.find_element_by_xpath('//*[@id=\"holdingW_CAT000000011364_1\"]/div[2]')\n",
    "html = elem.get_attribute('innerHTML')\n",
    "soup = BeautifulSoup(html, 'html.parser')\n",
    "tbody = soup.find('tbody')\n",
    "book_info = []\n",
    "for tr in tbody.find_all('tr'):\n",
    "    book_tmp = dict()\n",
    "    book_tmp['no'] = tr.select_one('.footable-first-column').get_text()\n",
    "    book_tmp['location'] = tr.select_one('.location').get_text()\n",
    "    book_tmp['serial_num'] = tr.select_one('.callNum').get_text()\n",
    "    book_tmp['status'] = tr.select_one('.status').get_text()\n",
    "    book_tmp['returnDate'] = tr.select_one('.returnDate').get_text()\n",
    "    book_info.append(book_tmp)\n",
    "book_info"
   ]
  },
  {
   "cell_type": "markdown",
   "metadata": {},
   "source": [
    "## 책 검색 후 여러권을 선택하고나서 책 정보들을 가져오기"
   ]
  },
  {
   "cell_type": "code",
   "execution_count": 16,
   "metadata": {},
   "outputs": [],
   "source": [
    "a = \"컴퓨터구조\""
   ]
  },
  {
   "cell_type": "code",
   "execution_count": 136,
   "metadata": {},
   "outputs": [],
   "source": [
    "driver = webdriver.Chrome(chromedriver_dir)\n",
    "driver.get('https://nsulib.nsu.ac.kr/')\n",
    "elem = driver.find_element_by_id('type1q')  # 학교 홈페이지 검색창\n",
    "elem.send_keys('82년생 김지영')\n",
    "elem.send_keys(Keys.RETURN)\n",
    "a_tag = driver.find_elements_by_xpath('//a[contains(@href,\"#previewLocation\")]')\n",
    "for a in a_tag[:3+1]:\n",
    "    a.click()\n",
    "html = driver.page_source\n",
    "soup = BeautifulSoup(html, 'html.parser')"
   ]
  },
  {
   "cell_type": "code",
   "execution_count": 139,
   "metadata": {},
   "outputs": [
    {
     "ename": "AttributeError",
     "evalue": "'NoneType' object has no attribute 'find_all'",
     "output_type": "error",
     "traceback": [
      "\u001b[0;31m---------------------------------------------------------------------------\u001b[0m",
      "\u001b[0;31mAttributeError\u001b[0m                            Traceback (most recent call last)",
      "\u001b[0;32m<ipython-input-139-4dc2222c3cd4>\u001b[0m in \u001b[0;36m<module>\u001b[0;34m\u001b[0m\n\u001b[1;32m      9\u001b[0m     \u001b[0mbook_info\u001b[0m\u001b[0;34m.\u001b[0m\u001b[0mappend\u001b[0m\u001b[0;34m(\u001b[0m\u001b[0mbook_one\u001b[0m\u001b[0;34m)\u001b[0m\u001b[0;34m\u001b[0m\u001b[0m\n\u001b[1;32m     10\u001b[0m     \u001b[0mtbody\u001b[0m \u001b[0;34m=\u001b[0m \u001b[0msoup\u001b[0m\u001b[0;34m.\u001b[0m\u001b[0mfind\u001b[0m\u001b[0;34m(\u001b[0m\u001b[0;34m'tbody'\u001b[0m\u001b[0;34m)\u001b[0m\u001b[0;34m\u001b[0m\u001b[0m\n\u001b[0;32m---> 11\u001b[0;31m     \u001b[0;32mfor\u001b[0m \u001b[0mtr\u001b[0m \u001b[0;32min\u001b[0m \u001b[0mtbody\u001b[0m\u001b[0;34m.\u001b[0m\u001b[0mfind_all\u001b[0m\u001b[0;34m(\u001b[0m\u001b[0;34m'tr'\u001b[0m\u001b[0;34m)\u001b[0m\u001b[0;34m:\u001b[0m\u001b[0;34m\u001b[0m\u001b[0m\n\u001b[0m\u001b[1;32m     12\u001b[0m         \u001b[0mbook_tmp\u001b[0m \u001b[0;34m=\u001b[0m \u001b[0mdict\u001b[0m\u001b[0;34m(\u001b[0m\u001b[0;34m)\u001b[0m\u001b[0;34m\u001b[0m\u001b[0m\n\u001b[1;32m     13\u001b[0m         \u001b[0mno\u001b[0m \u001b[0;34m=\u001b[0m \u001b[0mtr\u001b[0m\u001b[0;34m.\u001b[0m\u001b[0mselect_one\u001b[0m\u001b[0;34m(\u001b[0m\u001b[0;34m'.footable-first-column'\u001b[0m\u001b[0;34m)\u001b[0m\u001b[0;34m.\u001b[0m\u001b[0mget_text\u001b[0m\u001b[0;34m(\u001b[0m\u001b[0;34m)\u001b[0m\u001b[0;34m\u001b[0m\u001b[0m\n",
      "\u001b[0;31mAttributeError\u001b[0m: 'NoneType' object has no attribute 'find_all'"
     ]
    }
   ],
   "source": [
    "ul = soup.select_one('.resultList')\n",
    "book_info = []\n",
    "for li in ul.select('.items'):\n",
    "    book_one = dict()\n",
    "    book_one['title'] = li.select_one('dd.title > a').get_text()\n",
    "    book_one['author'] = li.select('dd.info')[0].get_text()\n",
    "    book_one['publisher'] = li.select('dd.info')[1].get_text()\n",
    "    book_one['publish_year'] = li.select('dd.info')[2].get_text()\n",
    "    book_info.append(book_one)\n",
    "    tbody = soup.find('tbody')\n",
    "    for tr in tbody.find_all('tr'):\n",
    "        book_tmp = dict()\n",
    "        no = tr.select_one('.footable-first-column').get_text()\n",
    "        book_tmp['no'] = tr.select_one('.footable-first-column').get_text()\n",
    "        book_tmp['location'] = tr.select_one('.location').get_text()\n",
    "        book_tmp['serial_num'] = tr.select_one('.callNum').get_text()\n",
    "        book_tmp['status'] = tr.select_one('.status').get_text()\n",
    "        book_tmp['returnDate'] = tr.select_one('.returnDate').get_text()\n",
    "        book_one[f'{no}'] = book_tmp\n",
    "    print(book_one)\n",
    "#     if \n",
    "#     print(li)\n",
    "#     print('------------------')"
   ]
  },
  {
   "cell_type": "code",
   "execution_count": 133,
   "metadata": {},
   "outputs": [
    {
     "data": {
      "text/plain": [
       "{'title': '컴퓨터구조',\n",
       " 'author': '김동일',\n",
       " 'publisher': '오성미디어',\n",
       " 'publish_year': '2002',\n",
       " '1': {'no': '1',\n",
       "  'location': '중앙도서관/동양서 제1자료실(5층)/',\n",
       "  'serial_num': '004.22 윤192ㅋ',\n",
       "  'status': '대출가능',\n",
       "  'returnDate': ''},\n",
       " '2': {'no': '2',\n",
       "  'location': '중앙도서관/동양서 제1자료실(5층)/',\n",
       "  'serial_num': '004.22 윤192ㅋ C.2',\n",
       "  'status': '대출가능',\n",
       "  'returnDate': ''}}"
      ]
     },
     "execution_count": 133,
     "metadata": {},
     "output_type": "execute_result"
    }
   ],
   "source": [
    "book_one"
   ]
  },
  {
   "cell_type": "code",
   "execution_count": null,
   "metadata": {},
   "outputs": [],
   "source": []
  },
  {
   "cell_type": "code",
   "execution_count": null,
   "metadata": {},
   "outputs": [],
   "source": []
  },
  {
   "cell_type": "code",
   "execution_count": null,
   "metadata": {},
   "outputs": [],
   "source": []
  },
  {
   "cell_type": "code",
   "execution_count": 118,
   "metadata": {},
   "outputs": [],
   "source": [
    "book1 = {'no': '1', 'location': '중앙도서관', 'date': '2019-01-22'}\n",
    "book2 = {'no': '2', 'location': '중앙도서관', 'date': ''}"
   ]
  },
  {
   "cell_type": "code",
   "execution_count": 125,
   "metadata": {
    "scrolled": true
   },
   "outputs": [
    {
     "data": {
      "text/plain": [
       "{'no': '1',\n",
       " 'location': '중앙도서관',\n",
       " 'date': '2019-01-22',\n",
       " 'no1': {'no': '2', 'location': '중앙도서관', 'date': ''}}"
      ]
     },
     "execution_count": 125,
     "metadata": {},
     "output_type": "execute_result"
    }
   ],
   "source": [
    "book1['no1'] = book2\n",
    "book1"
   ]
  },
  {
   "cell_type": "code",
   "execution_count": null,
   "metadata": {},
   "outputs": [],
   "source": [
    "first_dict = dict()\n",
    "second_dict = dict()"
   ]
  },
  {
   "cell_type": "code",
   "execution_count": null,
   "metadata": {},
   "outputs": [],
   "source": [
    "second_dict = {'1' : 'first',\n",
    "              '2': 'second'}"
   ]
  },
  {
   "cell_type": "code",
   "execution_count": 46,
   "metadata": {},
   "outputs": [],
   "source": [
    "first_dict= second_dict, third_dict"
   ]
  },
  {
   "cell_type": "code",
   "execution_count": 49,
   "metadata": {},
   "outputs": [
    {
     "name": "stdout",
     "output_type": "stream",
     "text": [
      "{'1': 'first', '2': 'second'}\n",
      "{'3': 'three', '4': 'four'}\n"
     ]
    }
   ],
   "source": [
    "for i in first_dict:\n",
    "    print(i)"
   ]
  },
  {
   "cell_type": "code",
   "execution_count": 45,
   "metadata": {},
   "outputs": [],
   "source": [
    "third_dict = {'3': 'three',\n",
    "             '4': 'four'}"
   ]
  },
  {
   "cell_type": "code",
   "execution_count": 42,
   "metadata": {},
   "outputs": [],
   "source": [
    "book_title = dict()\n",
    "book_reservation = dict()\n",
    "book_reservation = {'1': '123', '2': '123333333123', '3': '234'}\n",
    "\n"
   ]
  },
  {
   "cell_type": "code",
   "execution_count": 60,
   "metadata": {},
   "outputs": [],
   "source": [
    "book_info = {'datatype': '단행본',\n",
    " 'signature': '82년생 김지영: 조남주 장편소설 / 조남주 [지음].',\n",
    " 'personal_author': '조남주, 저',\n",
    " 'publication_type': '서울 : 민음사, 2016.',\n",
    " 'form_type': '190 p. ; 20cm.',\n",
    " 'ISBN': '9788937473005(세트)9788937473135',\n",
    " 'class_sign': '813.7 ',\n",
    " 'language': '한국어',\n",
    "            1 : {\n",
    "                'reservation': '예약가능'\n",
    "            },\n",
    "             2 : {\n",
    "                 'reservation': '예약불가'\n",
    "             }\n",
    "}"
   ]
  },
  {
   "cell_type": "code",
   "execution_count": 61,
   "metadata": {},
   "outputs": [
    {
     "data": {
      "text/plain": [
       "{'datatype': '단행본',\n",
       " 'signature': '82년생 김지영: 조남주 장편소설 / 조남주 [지음].',\n",
       " 'personal_author': '조남주, 저',\n",
       " 'publication_type': '서울 : 민음사, 2016.',\n",
       " 'form_type': '190 p. ; 20cm.',\n",
       " 'ISBN': '9788937473005(세트)9788937473135',\n",
       " 'class_sign': '813.7 ',\n",
       " 'language': '한국어',\n",
       " 1: {'reservation': '예약가능'},\n",
       " 2: {'reservation': '예약불가'}}"
      ]
     },
     "execution_count": 61,
     "metadata": {},
     "output_type": "execute_result"
    }
   ],
   "source": [
    "book_info"
   ]
  },
  {
   "cell_type": "code",
   "execution_count": 56,
   "metadata": {},
   "outputs": [],
   "source": [
    "info = dict\n",
    "book_info = dict\n",
    "book_reservation = dict"
   ]
  },
  {
   "cell_type": "code",
   "execution_count": 52,
   "metadata": {},
   "outputs": [
    {
     "ename": "TypeError",
     "evalue": "unhashable type: 'dict'",
     "output_type": "error",
     "traceback": [
      "\u001b[0;31m---------------------------------------------------------------------------\u001b[0m",
      "\u001b[0;31mTypeError\u001b[0m                                 Traceback (most recent call last)",
      "\u001b[0;32m<ipython-input-52-c359cff9c950>\u001b[0m in \u001b[0;36m<module>\u001b[0;34m\u001b[0m\n\u001b[1;32m      1\u001b[0m info = {\n\u001b[0;32m----> 2\u001b[0;31m     \u001b[0mbook_title\u001b[0m\u001b[0;34m:\u001b[0m \u001b[0mbook_reservation\u001b[0m\u001b[0;34m\u001b[0m\u001b[0m\n\u001b[0m\u001b[1;32m      3\u001b[0m }\n",
      "\u001b[0;31mTypeError\u001b[0m: unhashable type: 'dict'"
     ]
    }
   ],
   "source": [
    "info = {\n",
    "    book_title: book_reservation\n",
    "}"
   ]
  },
  {
   "cell_type": "code",
   "execution_count": 77,
   "metadata": {},
   "outputs": [],
   "source": [
    "book_dic = ['첫번째', '두번째', '세번째', '네번째']"
   ]
  },
  {
   "cell_type": "code",
   "execution_count": 79,
   "metadata": {},
   "outputs": [],
   "source": [
    "book_reset = {book_dic[0]: book_dic[1:]}"
   ]
  },
  {
   "cell_type": "code",
   "execution_count": 80,
   "metadata": {},
   "outputs": [
    {
     "data": {
      "text/plain": [
       "{'첫번째': ['두번째', '세번째', '네번째']}"
      ]
     },
     "execution_count": 80,
     "metadata": {},
     "output_type": "execute_result"
    }
   ],
   "source": [
    "book_reset"
   ]
  },
  {
   "cell_type": "code",
   "execution_count": null,
   "metadata": {},
   "outputs": [],
   "source": []
  }
 ],
 "metadata": {
  "kernelspec": {
   "display_name": "Python 3",
   "language": "python",
   "name": "python3"
  },
  "language_info": {
   "codemirror_mode": {
    "name": "ipython",
    "version": 3
   },
   "file_extension": ".py",
   "mimetype": "text/x-python",
   "name": "python",
   "nbconvert_exporter": "python",
   "pygments_lexer": "ipython3",
   "version": "3.6.6"
  }
 },
 "nbformat": 4,
 "nbformat_minor": 2
}
