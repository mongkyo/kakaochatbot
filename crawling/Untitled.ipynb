{
 "cells": [
  {
   "cell_type": "code",
   "execution_count": 1,
   "metadata": {},
   "outputs": [],
   "source": [
    "from selenium import webdriver\n",
    "from selenium.webdriver.common.keys import Keys\n",
    "from bs4 import BeautifulSoup\n",
    "import requests\n",
    "import lxml\n",
    "import sys\n",
    "import time\n",
    "import re\n",
    "import urllib.request\n"
   ]
  },
  {
   "cell_type": "code",
   "execution_count": 2,
   "metadata": {},
   "outputs": [],
   "source": [
    "chromedriver_dir = '/Users/mongkyo/Projects/kakao-chatbot/crawling/chromedriver'\n",
    "# options = webdriver.ChromeOptions()\n",
    "# options.add_argument('headless')\n",
    "# options.add_argument('window-size=1920x1080')\n",
    "# options.add_argument(\"disable-gpu\")\n",
    "# driver = webdriver.Chrome(chormedriver_dir, chrome_option=options)"
   ]
  },
  {
   "cell_type": "code",
   "execution_count": 3,
   "metadata": {},
   "outputs": [],
   "source": [
    "a = '82년생 김지영'"
   ]
  },
  {
   "cell_type": "code",
   "execution_count": 11,
   "metadata": {},
   "outputs": [],
   "source": [
    "driver = webdriver.Chrome(chromedriver_dir)\n",
    "driver.get('https://nsulib.nsu.ac.kr/')\n",
    "elem = driver.find_element_by_name(\"q\")\n",
    "elem.send_keys(a)\n",
    "elem.send_keys(Keys.RETURN)\n",
    "driver.find_element_by_xpath('//*[@id=\"item_CATTOT000000469834\"]/dl/dd[11]/div/p/a').click()\n",
    "driver.find_element_by_xpath('//*[@id=\"item_CATTOT000000469834\"]/dl/dd[4]/a').click()\n",
    "info = dict()\n",
    "html = driver.page_source"
   ]
  },
  {
   "cell_type": "code",
   "execution_count": 12,
   "metadata": {},
   "outputs": [],
   "source": [
    "soup = BeautifulSoup(html, 'html.parser')"
   ]
  },
  {
   "cell_type": "code",
   "execution_count": 14,
   "metadata": {},
   "outputs": [],
   "source": [
    "table = soup.find('tbody')\n"
   ]
  },
  {
   "cell_type": "code",
   "execution_count": 15,
   "metadata": {},
   "outputs": [
    {
     "data": {
      "text/plain": [
       "<tbody>\n",
       "<tr><th scope=\"row\">자료유형</th><td>단행본</td></tr><tr><th scope=\"row\">서명/저자사항</th><td>82년생 김지영: 조남주 장편소설 / 조남주 [지음].</td></tr><tr><th scope=\"row\">개인저자</th><td><a href=\"/search/tot/result?st=FRNT&amp;si=2&amp;q=조남주\" title=\"이 키워드로 더 검색하기\">조남주</a>, 저<br/></td></tr><tr><th scope=\"row\">발행사항</th><td>서울 : 민음사, 2016.</td></tr><tr><th scope=\"row\">형태사항</th><td>190 p. ; 20cm.</td></tr><tr><th scope=\"row\">총서사항</th><td><a href=\"/search/tot/result?st=FRNT&amp;si=1&amp;q=오늘의 젊은 작가;\" title=\"이 키워드로 더 검색하기\">오늘의 젊은 작가</a>;13<br/></td></tr><tr><th scope=\"row\">ISBN</th><td>9788937473005(세트)<br/>9788937473135<br/></td></tr><tr><th scope=\"row\">비통제주제어</th><td><a href=\"/search/tot/result?st=FRNT&amp;si=4&amp;q=한국문학\" title=\"이 키워드로 더 검색하기\">한국문학</a>,<a href=\"/search/tot/result?st=FRNT&amp;si=4&amp;q=한국현대소설\" title=\"이 키워드로 더 검색하기\">한국현대소설</a>,<a href=\"/search/tot/result?st=FRNT&amp;si=4&amp;q=장편소설\" title=\"이 키워드로 더 검색하기\">장편소설</a></td></tr><tr><th scope=\"row\">분류기호</th><td><a href=\"/search/tot/result?st=FRNT&amp;si=13&amp;q=813.7\" title=\"이 키워드로 더 검색하기\">813.7</a> <br/></td></tr><tr><th scope=\"row\">언어</th><td>한국어</td></tr>\n",
       "</tbody>"
      ]
     },
     "execution_count": 15,
     "metadata": {},
     "output_type": "execute_result"
    }
   ],
   "source": [
    "table"
   ]
  },
  {
   "cell_type": "code",
   "execution_count": 22,
   "metadata": {},
   "outputs": [],
   "source": [
    "for thtd in table.find_all(\"tr\"):\n",
    "    temp = thtd.th.get_text()\n",
    "    if temp.replace('\\n', '') == '자료유형':\n",
    "        info['datatype'] = thtd.td.get_text().replace('\\n', '')\n",
    "    elif temp.replace('\\n', '') == '서명/저자사항':\n",
    "        info['signature'] = thtd.td.get_text().replace('\\n', '')\n",
    "    elif temp.replace('\\n', '') == '개인저자':\n",
    "        info['personal_author'] = thtd.td.get_text().replace('\\n', '')\n",
    "    elif temp.replace('\\n', '') == '발행사항':\n",
    "        info['publication_type'] = thtd.td.get_text().replace('\\n', '')\n",
    "    elif temp.replace('\\n', '') == '형태사항':\n",
    "        info['form_type'] = thtd.td.get_text().replace('\\n', '')\n",
    "    elif temp.replace('\\n', '') == '원서명':\n",
    "        info['original_title'] = thtd.td.get_text().replace('\\n', '')\n",
    "    elif temp.replace('\\n', '') == 'ISBN':\n",
    "        info['ISBN'] = thtd.td.get_text().replace('\\n', '')\n",
    "    elif temp.replace('\\n', '') == '일반주기':\n",
    "        info['general_note'] = thtd.td.get_text().replace('\\n', '')\n",
    "    elif temp.replace('\\n', '') == '서지주기':\n",
    "        info['book_note'] = thtd.td.get_text().replace('\\n', '')\n",
    "    elif temp.replace('\\n', '') == '일반주제명':\n",
    "        info['general_subject'] = thtd.td.get_text().replace('\\n', '')\n",
    "    elif temp.replace('\\n', '') == '분류기호':\n",
    "        info['class_sign'] = thtd.td.get_text().replace('\\n', '')\n",
    "    elif temp.replace('\\n', '') == '언어':\n",
    "        info['language'] = thtd.td.get_text().replace('\\n', '')"
   ]
  },
  {
   "cell_type": "code",
   "execution_count": 23,
   "metadata": {
    "scrolled": true
   },
   "outputs": [
    {
     "data": {
      "text/plain": [
       "{'datatype': '단행본',\n",
       " 'signature': '82년생 김지영: 조남주 장편소설 / 조남주 [지음].',\n",
       " 'personal_author': '조남주, 저',\n",
       " 'publication_type': '서울 : 민음사, 2016.',\n",
       " 'form_type': '190 p. ; 20cm.',\n",
       " 'ISBN': '9788937473005(세트)9788937473135',\n",
       " 'class_sign': '813.7 ',\n",
       " 'language': '한국어'}"
      ]
     },
     "execution_count": 23,
     "metadata": {},
     "output_type": "execute_result"
    }
   ],
   "source": [
    "info"
   ]
  },
  {
   "cell_type": "code",
   "execution_count": 24,
   "metadata": {},
   "outputs": [],
   "source": [
    "collect_info = dict()"
   ]
  },
  {
   "cell_type": "code",
   "execution_count": 32,
   "metadata": {},
   "outputs": [],
   "source": [
    "collect_table = soup.select_one('#divContent > div > div:nth-child(6) > div.searchContents > div > table')"
   ]
  },
  {
   "cell_type": "code",
   "execution_count": 34,
   "metadata": {},
   "outputs": [
    {
     "data": {
      "text/plain": [
       "<table class=\"searchTable default\">\n",
       "<caption>메세지가 없습니다</caption>\n",
       "<thead>\n",
       "<tr>\n",
       "<th class=\"footable-first-column\" data-class=\"expand\" scope=\"row\">No.</th>\n",
       "<th data-hide=\"phone\" scope=\"row\">등록번호</th>\n",
       "<th data-hide=\"phone\" scope=\"row\">청구기호</th>\n",
       "<th data-hide=\"expand\" scope=\"row\">소장처</th>\n",
       "<th data-hide=\"expand\" scope=\"row\">도서상태</th>\n",
       "<th data-hide=\"phone\" scope=\"row\">반납예정일</th>\n",
       "<th scope=\"row\">예약</th>\n",
       "<th data-hide=\"phone\" scope=\"row\">서비스</th>\n",
       "<th class=\"footable-last-column\" data-hide=\"phone\" scope=\"row\">매체정보</th>\n",
       "</tr>\n",
       "</thead>\n",
       "<tbody>\n",
       "<tr class=\"first\">\n",
       "<td class=\"num expand footable-first-column\">1</td>\n",
       "<td class=\"accessionNo\">534762</td>\n",
       "<td class=\"callNum\">813.7 조1928</td>\n",
       "<td class=\"location\">\n",
       "\t\t\t                    \n",
       "\t\t\t                        \n",
       "\t\t\t                        \n",
       "\t\t\t                        중앙도서관/동양서 제2자료실(6층)/\n",
       "\t\t\t                    \n",
       "\t                        </td>\n",
       "<td>\n",
       "<span class=\"status ing\">대출중</span>\n",
       "</td>\n",
       "<td class=\"returnDate\">2018-12-27</td>\n",
       "<td>\n",
       "</td>\n",
       "<td class=\"service\">\n",
       "<div class=\"serviceInfo\">\n",
       "</div>\n",
       "</td>\n",
       "<td class=\"info footable-last-column\">\n",
       "<div class=\"serviceInfo\">\n",
       "</div>\n",
       "</td>\n",
       "</tr>\n",
       "<tr>\n",
       "<td class=\"num expand footable-first-column\">2</td>\n",
       "<td class=\"accessionNo\">534763</td>\n",
       "<td class=\"callNum\">813.7 조1928 C.2</td>\n",
       "<td class=\"location\">\n",
       "\t\t\t                    \n",
       "\t\t\t                        \n",
       "\t\t\t                        \n",
       "\t\t\t                        중앙도서관/동양서 제2자료실(6층)/\n",
       "\t\t\t                    \n",
       "\t                        </td>\n",
       "<td>\n",
       "<span class=\"status available\">대출가능</span>\n",
       "</td>\n",
       "<td class=\"returnDate\"></td>\n",
       "<td>\n",
       "</td>\n",
       "<td class=\"service\">\n",
       "<div class=\"serviceInfo\">\n",
       "<a class=\"service\" href=\"/missrepo/write?accession_no=000000534763\"><img alt=\"서가에 없는 책 신청\" height=\"16\" src=\"/image/ko/solution/common/ico/missrepo.gif\" title=\"서가에 없는 책 신청\" width=\"16\"/></a>\n",
       "</div>\n",
       "</td>\n",
       "<td class=\"info footable-last-column\">\n",
       "<div class=\"serviceInfo\">\n",
       "</div>\n",
       "</td>\n",
       "</tr>\n",
       "<tr>\n",
       "<td class=\"num expand footable-first-column\">3</td>\n",
       "<td class=\"accessionNo\">540279</td>\n",
       "<td class=\"callNum\">813.7 조1928 C.3</td>\n",
       "<td class=\"location\">\n",
       "\t\t\t                    \n",
       "\t\t\t                        \n",
       "\t\t\t                        \n",
       "\t\t\t                        중앙도서관/동양서 제2자료실(6층)/\n",
       "\t\t\t                    \n",
       "\t                        </td>\n",
       "<td>\n",
       "<span class=\"status available\">대출가능</span>\n",
       "</td>\n",
       "<td class=\"returnDate\"></td>\n",
       "<td>\n",
       "</td>\n",
       "<td class=\"service\">\n",
       "<div class=\"serviceInfo\">\n",
       "<a class=\"service\" href=\"/missrepo/write?accession_no=000000540279\"><img alt=\"서가에 없는 책 신청\" height=\"16\" src=\"/image/ko/solution/common/ico/missrepo.gif\" title=\"서가에 없는 책 신청\" width=\"16\"/></a>\n",
       "</div>\n",
       "</td>\n",
       "<td class=\"info footable-last-column\">\n",
       "<div class=\"serviceInfo\">\n",
       "</div>\n",
       "</td>\n",
       "</tr>\n",
       "</tbody>\n",
       "</table>"
      ]
     },
     "execution_count": 34,
     "metadata": {},
     "output_type": "execute_result"
    }
   ],
   "source": [
    "collect_table\n",
    "for thtd in collect_table.find_all(tr)"
   ]
  },
  {
   "cell_type": "code",
   "execution_count": 35,
   "metadata": {},
   "outputs": [],
   "source": [
    "first_dict = dict()\n",
    "second_dict = dict()"
   ]
  },
  {
   "cell_type": "code",
   "execution_count": 38,
   "metadata": {},
   "outputs": [],
   "source": [
    "second_dict = {'1' : 'first',\n",
    "              '2': 'second'}"
   ]
  },
  {
   "cell_type": "code",
   "execution_count": 46,
   "metadata": {},
   "outputs": [],
   "source": [
    "first_dict= second_dict, third_dict"
   ]
  },
  {
   "cell_type": "code",
   "execution_count": 49,
   "metadata": {},
   "outputs": [
    {
     "name": "stdout",
     "output_type": "stream",
     "text": [
      "{'1': 'first', '2': 'second'}\n",
      "{'3': 'three', '4': 'four'}\n"
     ]
    }
   ],
   "source": [
    "for i in first_dict:\n",
    "    print(i)"
   ]
  },
  {
   "cell_type": "code",
   "execution_count": 45,
   "metadata": {},
   "outputs": [],
   "source": [
    "third_dict = {'3': 'three',\n",
    "             '4': 'four'}"
   ]
  },
  {
   "cell_type": "code",
   "execution_count": null,
   "metadata": {},
   "outputs": [],
   "source": [
    "for "
   ]
  }
 ],
 "metadata": {
  "kernelspec": {
   "display_name": "Python 3",
   "language": "python",
   "name": "python3"
  },
  "language_info": {
   "codemirror_mode": {
    "name": "ipython",
    "version": 3
   },
   "file_extension": ".py",
   "mimetype": "text/x-python",
   "name": "python",
   "nbconvert_exporter": "python",
   "pygments_lexer": "ipython3",
   "version": "3.6.6"
  }
 },
 "nbformat": 4,
 "nbformat_minor": 2
}
